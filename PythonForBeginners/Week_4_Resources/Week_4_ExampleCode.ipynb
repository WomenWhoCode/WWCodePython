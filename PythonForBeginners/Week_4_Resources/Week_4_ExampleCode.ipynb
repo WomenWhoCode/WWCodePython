{
  "nbformat": 4,
  "nbformat_minor": 0,
  "metadata": {
    "colab": {
      "provenance": []
    },
    "kernelspec": {
      "name": "python3",
      "display_name": "Python 3"
    },
    "language_info": {
      "name": "python"
    }
  },
  "cells": [
    {
      "cell_type": "markdown",
      "source": [
        "# Week 4 Code Examples"
      ],
      "metadata": {
        "id": "_CBdFgzBPhWc"
      }
    },
    {
      "cell_type": "markdown",
      "source": [
        "## Question - How to do 2.1.18?\n"
      ],
      "metadata": {
        "id": "EEJmnPI-aLLS"
      }
    },
    {
      "cell_type": "code",
      "source": [
        "#How to do 2.1.18 - Programming***Essentials***in...Python\n",
        "\n",
        "print(\"Programming\",\"Essentials\",\"in\",sep=\"***\",end=\"...\")\n",
        "print(\"Python\")"
      ],
      "metadata": {
        "id": "wjmjMo8RaYB1",
        "colab": {
          "base_uri": "https://localhost:8080/"
        },
        "outputId": "ab51871a-cf02-4c72-ecf9-ec0af51de785"
      },
      "execution_count": 1,
      "outputs": [
        {
          "output_type": "stream",
          "name": "stdout",
          "text": [
            "Programming***Essentials***in...Python\n"
          ]
        }
      ]
    },
    {
      "cell_type": "markdown",
      "source": [
        "## Addition Arithemetic Operator Don't confuse with concatenate with Strings"
      ],
      "metadata": {
        "id": "S49X5DZgPOWK"
      }
    },
    {
      "cell_type": "code",
      "source": [
        "#Addition Example\n",
        "\n",
        "print(2+2)\n"
      ],
      "metadata": {
        "id": "fTFDAgZPP7X1",
        "collapsed": true,
        "colab": {
          "base_uri": "https://localhost:8080/"
        },
        "outputId": "395ebbf7-4ef2-4f99-8b85-95220316f8eb"
      },
      "execution_count": 2,
      "outputs": [
        {
          "output_type": "stream",
          "name": "stdout",
          "text": [
            "4\n"
          ]
        }
      ]
    },
    {
      "cell_type": "code",
      "source": [
        "#Don't confuse Addition Arithmetic Operator with String concatenation\n",
        "print('Add' + ' This')"
      ],
      "metadata": {
        "id": "aSaFzAVNQg6y",
        "collapsed": true,
        "colab": {
          "base_uri": "https://localhost:8080/"
        },
        "outputId": "978a8543-8eb1-4782-dc57-09ac031a56de"
      },
      "execution_count": 3,
      "outputs": [
        {
          "output_type": "stream",
          "name": "stdout",
          "text": [
            "Add This\n"
          ]
        }
      ]
    },
    {
      "cell_type": "markdown",
      "source": [
        "## Exponent Arithmetic Operator"
      ],
      "metadata": {
        "id": "LQP0bT2gOJ7q"
      }
    },
    {
      "cell_type": "code",
      "execution_count": 4,
      "metadata": {
        "id": "nXZgSBa5N6ki",
        "collapsed": true,
        "colab": {
          "base_uri": "https://localhost:8080/"
        },
        "outputId": "18b24bfe-98b0-4790-c026-d70e88f71c50"
      },
      "outputs": [
        {
          "output_type": "stream",
          "name": "stdout",
          "text": [
            "8\n",
            "8.0\n",
            "8.0\n",
            "8.0\n"
          ]
        }
      ],
      "source": [
        "#Exponent Examples with Integers and Floats\n",
        "\n",
        "print(2 ** 3)\n",
        "print(2 ** 3.)\n",
        "print(2. ** 3)\n",
        "print(2. ** 3.)"
      ]
    },
    {
      "cell_type": "markdown",
      "source": [
        "## Multiplication Arithmetic Operator"
      ],
      "metadata": {
        "id": "1BMEvuP1PRB5"
      }
    },
    {
      "cell_type": "code",
      "source": [
        "#Multiplication Examples with Integers and Floats\n",
        "\n",
        "print(2 * 3)\n",
        "print(2 * 3.)\n",
        "print(2. * 3)\n",
        "print(2. * 3.)\n"
      ],
      "metadata": {
        "id": "sZET-LA3P8-J",
        "collapsed": true,
        "colab": {
          "base_uri": "https://localhost:8080/"
        },
        "outputId": "b359394a-c161-4dcd-9708-74531011e286"
      },
      "execution_count": 5,
      "outputs": [
        {
          "output_type": "stream",
          "name": "stdout",
          "text": [
            "6\n",
            "6.0\n",
            "6.0\n",
            "6.0\n"
          ]
        }
      ]
    },
    {
      "cell_type": "markdown",
      "source": [
        "## Division Arithmetic Operator"
      ],
      "metadata": {
        "id": "nblWB6AyPXiZ"
      }
    },
    {
      "cell_type": "code",
      "source": [
        "#Division Examples. Answer is always a float.\n",
        "\n",
        "print(6 / 3)\n",
        "print(6 / 3.)\n",
        "print(6. / 3)\n",
        "print(6. / 3.)\n",
        "\n"
      ],
      "metadata": {
        "id": "IYFV00WQP-FT",
        "collapsed": true,
        "colab": {
          "base_uri": "https://localhost:8080/"
        },
        "outputId": "01a17ca9-6364-415a-a3ab-b78e8874103c"
      },
      "execution_count": 6,
      "outputs": [
        {
          "output_type": "stream",
          "name": "stdout",
          "text": [
            "2.0\n",
            "2.0\n",
            "2.0\n",
            "2.0\n"
          ]
        }
      ]
    },
    {
      "cell_type": "markdown",
      "source": [
        "## Integer Division Arithmetic Operator"
      ],
      "metadata": {
        "id": "mUdCgNSaPdei"
      }
    },
    {
      "cell_type": "code",
      "source": [
        "#Integer Division Examples\n",
        "\n",
        "#Both Numbers are Integers - Integer Division Produces an Integer\n",
        "print(22 // 8)\n",
        "\n"
      ],
      "metadata": {
        "id": "R7_5VC7ZQI_n",
        "collapsed": true,
        "colab": {
          "base_uri": "https://localhost:8080/"
        },
        "outputId": "72e2a7fb-c46e-4442-c287-a2442cd682cf"
      },
      "execution_count": 7,
      "outputs": [
        {
          "output_type": "stream",
          "name": "stdout",
          "text": [
            "2\n"
          ]
        }
      ]
    },
    {
      "cell_type": "code",
      "source": [
        "#Dividend is an Integer and the Divisor is a Float\n",
        "\n",
        "print(22 //8.)"
      ],
      "metadata": {
        "id": "uFv69tqfRrW4",
        "collapsed": true,
        "colab": {
          "base_uri": "https://localhost:8080/"
        },
        "outputId": "a77e6181-23c4-441d-8403-24478816130a"
      },
      "execution_count": 8,
      "outputs": [
        {
          "output_type": "stream",
          "name": "stdout",
          "text": [
            "2.0\n"
          ]
        }
      ]
    },
    {
      "cell_type": "code",
      "source": [
        "#Dividend is a Float and the Divisor is an Integer\n",
        "\n",
        "print(22. // 8)"
      ],
      "metadata": {
        "id": "a7Sgjh91RtzD",
        "collapsed": true,
        "colab": {
          "base_uri": "https://localhost:8080/"
        },
        "outputId": "71cdb133-571f-4405-cbd4-a508695ae627"
      },
      "execution_count": 9,
      "outputs": [
        {
          "output_type": "stream",
          "name": "stdout",
          "text": [
            "2.0\n"
          ]
        }
      ]
    },
    {
      "cell_type": "code",
      "source": [
        "#Negative Number - Rounding goes toward the lesser integer value.\n",
        "#\n",
        "# -6 divided by 4 is -1.5 with regular division\n",
        "#\n",
        "# for Integer Division, Round down to the lesser integer value.\n",
        "# -1.5 rounded down is -2\n",
        "\n",
        "print(-6 / 4)\n",
        "print(-6 // 4)"
      ],
      "metadata": {
        "id": "BWRipjc__pw4",
        "collapsed": true,
        "colab": {
          "base_uri": "https://localhost:8080/"
        },
        "outputId": "0eb79687-796b-4b6b-8361-e6e463faaf28"
      },
      "execution_count": 10,
      "outputs": [
        {
          "output_type": "stream",
          "name": "stdout",
          "text": [
            "-1.5\n",
            "-2\n"
          ]
        }
      ]
    },
    {
      "cell_type": "markdown",
      "source": [
        "## Examples of Integer Division vs Regular Division Also See Slide"
      ],
      "metadata": {
        "id": "mtf_vGE0CXdr"
      }
    },
    {
      "cell_type": "code",
      "source": [
        "#Integer Division Examples\n",
        "\n",
        "print(22//8)\n",
        "print(6//4)\n",
        "print(2//1)\n",
        "print(1//2)\n",
        "print(2//3)\n",
        "\n"
      ],
      "metadata": {
        "id": "pdED5W8wCgAU",
        "collapsed": true,
        "colab": {
          "base_uri": "https://localhost:8080/"
        },
        "outputId": "9ac2f5fb-6edb-43f8-ff95-9225d6ad61a0"
      },
      "execution_count": 11,
      "outputs": [
        {
          "output_type": "stream",
          "name": "stdout",
          "text": [
            "2\n",
            "1\n",
            "2\n",
            "0\n",
            "0\n"
          ]
        }
      ]
    },
    {
      "cell_type": "code",
      "source": [
        "#Regular Division Examples\n",
        "\n",
        "print(22/8)\n",
        "print(6/4)\n",
        "print(2/1)\n",
        "print(1/2)\n",
        "print(2/3)\n"
      ],
      "metadata": {
        "id": "wI7R_fNhFXvo",
        "collapsed": true,
        "colab": {
          "base_uri": "https://localhost:8080/"
        },
        "outputId": "fb1ce028-bf81-4033-9780-801569b1351e"
      },
      "execution_count": 12,
      "outputs": [
        {
          "output_type": "stream",
          "name": "stdout",
          "text": [
            "2.75\n",
            "1.5\n",
            "2.0\n",
            "0.5\n",
            "0.6666666666666666\n"
          ]
        }
      ]
    },
    {
      "cell_type": "markdown",
      "source": [
        "## Modulo % Means Remainder - See Slides"
      ],
      "metadata": {
        "id": "sbeiqTRoKbdB"
      }
    },
    {
      "cell_type": "code",
      "source": [
        "print(14 % 4)\n",
        "print(12 % 4.5)\n",
        "print(2 % 2)\n",
        "print(0 % 2)\n",
        "print(1 % 2)\n",
        "print(1 % 3)\n",
        "print(2 % 3)\n"
      ],
      "metadata": {
        "id": "whb9SAntKfpY",
        "collapsed": true,
        "colab": {
          "base_uri": "https://localhost:8080/"
        },
        "outputId": "35aad258-f8ad-4ea5-b069-b224b69006fe"
      },
      "execution_count": 13,
      "outputs": [
        {
          "output_type": "stream",
          "name": "stdout",
          "text": [
            "2\n",
            "3.0\n",
            "0\n",
            "0\n",
            "1\n",
            "1\n",
            "2\n"
          ]
        }
      ]
    },
    {
      "cell_type": "markdown",
      "source": [
        "## Order of Operators"
      ],
      "metadata": {
        "id": "rxeYPXIVcxuc"
      }
    },
    {
      "cell_type": "code",
      "source": [
        "# Example Moving Left to Right - See Slide\n",
        "print((5 * ((25 % 13) + 100) / (2 * 13)) // 2)"
      ],
      "metadata": {
        "id": "0KUY1Dtoc1gX",
        "colab": {
          "base_uri": "https://localhost:8080/"
        },
        "outputId": "573ee0d3-a2bf-4c5a-84de-715098c96e5e"
      },
      "execution_count": 14,
      "outputs": [
        {
          "output_type": "stream",
          "name": "stdout",
          "text": [
            "10.0\n"
          ]
        }
      ]
    },
    {
      "cell_type": "code",
      "source": [
        "#Example Including Exponents Moving Right to Left\n",
        "# 3 ** 2 is solved first = 9\n",
        "# 2 ** 9 is 512\n",
        "# Can also be written (2 ** (3 ** 2))\n",
        "\n",
        "print(2 ** 3 **2)\n"
      ],
      "metadata": {
        "id": "VYJJW5qFg9gF",
        "collapsed": true,
        "colab": {
          "base_uri": "https://localhost:8080/"
        },
        "outputId": "20c9503d-c0be-4cd4-95df-7e2741f65693"
      },
      "execution_count": 15,
      "outputs": [
        {
          "output_type": "stream",
          "name": "stdout",
          "text": [
            "512\n"
          ]
        }
      ]
    }
  ]
}
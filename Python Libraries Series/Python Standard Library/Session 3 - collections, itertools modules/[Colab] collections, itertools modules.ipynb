{
  "nbformat": 4,
  "nbformat_minor": 0,
  "metadata": {
    "colab": {
      "name": "Session #3: Python Standard Library - Containers and Tools",
      "provenance": [],
      "collapsed_sections": []
    },
    "kernelspec": {
      "name": "python3",
      "display_name": "Python 3"
    },
    "language_info": {
      "name": "python"
    }
  },
  "cells": [
    {
      "cell_type": "markdown",
      "metadata": {
        "id": "NbreNcqX8BEv"
      },
      "source": [
        "# Python Libraries 101\n",
        "\n",
        "## Session #3: Python Standard Library - Containers and Tools"
      ]
    },
    {
      "cell_type": "markdown",
      "metadata": {
        "id": "-hu7bxJx8Zn_"
      },
      "source": [
        "## List of Topics:\n",
        "  1. collections\n",
        "  2. itertools"
      ]
    },
    {
      "cell_type": "markdown",
      "metadata": {
        "id": "vgbevLxl8-74"
      },
      "source": [
        "-----------------------------------\n",
        "-----------------------------------"
      ]
    },
    {
      "cell_type": "markdown",
      "metadata": {
        "id": "lRzaOgKg9IQw"
      },
      "source": [
        "## collections"
      ]
    },
    {
      "cell_type": "code",
      "metadata": {
        "id": "UghN4LDM9L1v"
      },
      "source": [
        "# import collections\n",
        "import collections"
      ],
      "execution_count": 1,
      "outputs": []
    },
    {
      "cell_type": "markdown",
      "metadata": {
        "id": "qIW4YI8oHtdP"
      },
      "source": [
        "### Counter()"
      ]
    },
    {
      "cell_type": "code",
      "metadata": {
        "id": "wJipMBvHc48P"
      },
      "source": [
        "# another way to import only Counter \n",
        "from collections import Counter"
      ],
      "execution_count": 2,
      "outputs": []
    },
    {
      "cell_type": "code",
      "metadata": {
        "id": "nVl0-z4q9Lnm"
      },
      "source": [
        "# create a regular iterable with it's items repeating\n",
        "favorite_colors = ['red', 'blue', 'black', 'black', 'white', 'pink', 'turquoise', 'red', 'purple', 'magenta', 'yellow', 'indigo', 'black', 'red', 'pink']"
      ],
      "execution_count": 3,
      "outputs": []
    },
    {
      "cell_type": "code",
      "metadata": {
        "id": "p2CnzMAu9Plo",
        "colab": {
          "base_uri": "https://localhost:8080/"
        },
        "outputId": "9daca675-75cd-45cf-9903-544925e661ce"
      },
      "source": [
        "# collections.Counter(iterable) takes 1 argument, an iterable such as a list, tuple or string\n",
        "colors_counter = collections.Counter(favorite_colors)\n",
        "print(colors_counter)"
      ],
      "execution_count": 4,
      "outputs": [
        {
          "output_type": "stream",
          "text": [
            "Counter({'red': 3, 'black': 3, 'pink': 2, 'blue': 1, 'white': 1, 'turquoise': 1, 'purple': 1, 'magenta': 1, 'yellow': 1, 'indigo': 1})\n"
          ],
          "name": "stdout"
        }
      ]
    },
    {
      "cell_type": "code",
      "metadata": {
        "id": "6iy1LgcHIpi7",
        "colab": {
          "base_uri": "https://localhost:8080/"
        },
        "outputId": "37dbe78d-01e2-4af6-9cda-4cbd1f3e2082"
      },
      "source": [
        "#let's try the same with a string\n",
        "a_random_string = 'jdfsniugaewbdspjkladlfklksadjkdjkdfs'\n",
        "string_counter = collections.Counter(a_random_string)\n",
        "print(string_counter)"
      ],
      "execution_count": 5,
      "outputs": [
        {
          "output_type": "stream",
          "text": [
            "Counter({'d': 6, 'k': 5, 'j': 4, 's': 4, 'f': 3, 'a': 3, 'l': 3, 'n': 1, 'i': 1, 'u': 1, 'g': 1, 'e': 1, 'w': 1, 'b': 1, 'p': 1})\n"
          ],
          "name": "stdout"
        }
      ]
    },
    {
      "cell_type": "code",
      "metadata": {
        "id": "sfor_-eLJwhV",
        "colab": {
          "base_uri": "https://localhost:8080/"
        },
        "outputId": "0a92b100-dba4-4cf6-f428-567a168bf3d5"
      },
      "source": [
        "# using Counter to see how many times each word repeats\n",
        "\n",
        "a_sentence = \"hi hi ! I am a student and I like ice cream\"\n",
        "sentence_counter = collections.Counter(a_sentence.split())\n",
        "print(sentence_counter)"
      ],
      "execution_count": 6,
      "outputs": [
        {
          "output_type": "stream",
          "text": [
            "Counter({'hi': 2, 'I': 2, '!': 1, 'am': 1, 'a': 1, 'student': 1, 'and': 1, 'like': 1, 'ice': 1, 'cream': 1})\n"
          ],
          "name": "stdout"
        }
      ]
    },
    {
      "cell_type": "code",
      "metadata": {
        "id": "b2UbnpAZKTld",
        "colab": {
          "base_uri": "https://localhost:8080/"
        },
        "outputId": "e16b1cb2-1f4a-4b7e-89e9-626e34b50d59"
      },
      "source": [
        "# elements() returns each element with 'count' repetition\n",
        "color_elements = sorted(x for x in colors_counter.elements())\n",
        "string_elements = [s for s in string_counter.elements()]\n",
        "sentence_elements = [s for s in sentence_counter.elements()]\n",
        "print('Colors: ', color_elements)\n",
        "print('Random String: ', string_elements)\n",
        "print('Sentence: ', sentence_elements)"
      ],
      "execution_count": 7,
      "outputs": [
        {
          "output_type": "stream",
          "text": [
            "Colors:  ['black', 'black', 'black', 'blue', 'indigo', 'magenta', 'pink', 'pink', 'purple', 'red', 'red', 'red', 'turquoise', 'white', 'yellow']\n",
            "Random String:  ['j', 'j', 'j', 'j', 'd', 'd', 'd', 'd', 'd', 'd', 'f', 'f', 'f', 's', 's', 's', 's', 'n', 'i', 'u', 'g', 'a', 'a', 'a', 'e', 'w', 'b', 'p', 'k', 'k', 'k', 'k', 'k', 'l', 'l', 'l']\n",
            "Sentence:  ['hi', 'hi', '!', 'I', 'I', 'am', 'a', 'student', 'and', 'like', 'ice', 'cream']\n"
          ],
          "name": "stdout"
        }
      ]
    },
    {
      "cell_type": "code",
      "metadata": {
        "id": "2oUI1F_yOb8X",
        "colab": {
          "base_uri": "https://localhost:8080/"
        },
        "outputId": "d6db5239-02fb-4da1-a3ea-d73b6be14e9f"
      },
      "source": [
        "# most_common(n) can be used to return the first n most repeated elements\n",
        "print('Top 3 color preferences: ',colors_counter.most_common(3))"
      ],
      "execution_count": 8,
      "outputs": [
        {
          "output_type": "stream",
          "text": [
            "Top 3 color preferences:  [('red', 3), ('black', 3), ('pink', 2)]\n"
          ],
          "name": "stdout"
        }
      ]
    },
    {
      "cell_type": "code",
      "metadata": {
        "id": "rb1PZB9UOujF",
        "colab": {
          "base_uri": "https://localhost:8080/"
        },
        "outputId": "e60000a7-4f42-4de9-e9ee-fac661629f1c"
      },
      "source": [
        "# we can update a counter using the update function\n",
        "colors_counter.update(['pink', 'red', 'blue', 'blue'])\n",
        "print(colors_counter.most_common(5))"
      ],
      "execution_count": 9,
      "outputs": [
        {
          "output_type": "stream",
          "text": [
            "[('red', 4), ('blue', 3), ('black', 3), ('pink', 3), ('white', 1)]\n"
          ],
          "name": "stdout"
        }
      ]
    },
    {
      "cell_type": "markdown",
      "metadata": {
        "id": "HQ4vH1BuPajw"
      },
      "source": [
        "### deque()"
      ]
    },
    {
      "cell_type": "code",
      "metadata": {
        "id": "nB6kjguOdFm0"
      },
      "source": [
        "# another way to import only deque\n",
        "from collections import deque"
      ],
      "execution_count": null,
      "outputs": []
    },
    {
      "cell_type": "code",
      "metadata": {
        "id": "-xCUlqCbPfeL"
      },
      "source": [
        "# initialize the deque() using collections.deque(iterable)\n",
        "deck = collections.deque([10, 7, 5, 4, 2, 2, 2])"
      ],
      "execution_count": 10,
      "outputs": []
    },
    {
      "cell_type": "code",
      "metadata": {
        "id": "PtPA-BEZRt7T",
        "colab": {
          "base_uri": "https://localhost:8080/"
        },
        "outputId": "efa16124-e48f-49ca-9618-277b753a9c92"
      },
      "source": [
        "deck.append(0)\n",
        "deck.appendleft(12)\n",
        "\n",
        "print(deck)"
      ],
      "execution_count": 11,
      "outputs": [
        {
          "output_type": "stream",
          "text": [
            "deque([12, 10, 7, 5, 4, 2, 2, 2, 0])\n"
          ],
          "name": "stdout"
        }
      ]
    },
    {
      "cell_type": "code",
      "metadata": {
        "id": "-BdzcqAMSFb8",
        "colab": {
          "base_uri": "https://localhost:8080/"
        },
        "outputId": "b1f516b9-c309-4736-fb33-fac70bf65ffe"
      },
      "source": [
        "# count(n) return the number of times n is repeated in the deque()\n",
        "print(deck.count(2))"
      ],
      "execution_count": 12,
      "outputs": [
        {
          "output_type": "stream",
          "text": [
            "3\n"
          ],
          "name": "stdout"
        }
      ]
    },
    {
      "cell_type": "code",
      "metadata": {
        "id": "PxP6ANTKSdqI",
        "colab": {
          "base_uri": "https://localhost:8080/"
        },
        "outputId": "5a3fa460-01cc-4c05-cb30-8574632d3c8e"
      },
      "source": [
        "right_new_elements = [0.5, 0.1, 0, -3, -3, -10]\n",
        "left_new_elements = [13, 14, 16]\n",
        "\n",
        "deck.extend(right_new_elements)\n",
        "print(\"Right elements added: \", deck)\n",
        "\n",
        "deck.extendleft(left_new_elements)\n",
        "print(\"Left elements added: \", deck)"
      ],
      "execution_count": 13,
      "outputs": [
        {
          "output_type": "stream",
          "text": [
            "Right elements added:  deque([12, 10, 7, 5, 4, 2, 2, 2, 0, 0.5, 0.1, 0, -3, -3, -10])\n",
            "Left elements added:  deque([16, 14, 13, 12, 10, 7, 5, 4, 2, 2, 2, 0, 0.5, 0.1, 0, -3, -3, -10])\n"
          ],
          "name": "stdout"
        }
      ]
    },
    {
      "cell_type": "code",
      "metadata": {
        "id": "HTv9R-c9TiJa",
        "colab": {
          "base_uri": "https://localhost:8080/"
        },
        "outputId": "c62c5950-c1dd-4d44-fe17-1c02c75a843d"
      },
      "source": [
        "# pop elements from the right side of the deque using pop()\n",
        "deck.pop()\n",
        "print(deck)\n",
        "\n",
        "# pop elements from the left using popleft()\n",
        "deck.popleft()\n",
        "print(deck)"
      ],
      "execution_count": 14,
      "outputs": [
        {
          "output_type": "stream",
          "text": [
            "deque([16, 14, 13, 12, 10, 7, 5, 4, 2, 2, 2, 0, 0.5, 0.1, 0, -3, -3])\n",
            "deque([14, 13, 12, 10, 7, 5, 4, 2, 2, 2, 0, 0.5, 0.1, 0, -3, -3])\n"
          ],
          "name": "stdout"
        }
      ]
    },
    {
      "cell_type": "code",
      "metadata": {
        "id": "h_0EZ0uaTFe9",
        "colab": {
          "base_uri": "https://localhost:8080/"
        },
        "outputId": "5dbce21f-a679-4a2b-dae5-fe7381f4f831"
      },
      "source": [
        "# insert anywhere in the deque() with an index using the insert() method\n",
        "deck.insert(0, 20)\n",
        "print(deck)"
      ],
      "execution_count": 15,
      "outputs": [
        {
          "output_type": "stream",
          "text": [
            "deque([20, 14, 13, 12, 10, 7, 5, 4, 2, 2, 2, 0, 0.5, 0.1, 0, -3, -3])\n"
          ],
          "name": "stdout"
        }
      ]
    },
    {
      "cell_type": "code",
      "metadata": {
        "id": "x-zX9q1mTSly",
        "colab": {
          "base_uri": "https://localhost:8080/"
        },
        "outputId": "650e1208-ad8b-4243-ca11-c53db3e7b679"
      },
      "source": [
        "# reverse a deque using the reverse() method\n",
        "deck.reverse()\n",
        "print(deck)"
      ],
      "execution_count": 16,
      "outputs": [
        {
          "output_type": "stream",
          "text": [
            "deque([-3, -3, 0, 0.1, 0.5, 0, 2, 2, 2, 4, 5, 7, 10, 12, 13, 14, 20])\n"
          ],
          "name": "stdout"
        }
      ]
    },
    {
      "cell_type": "markdown",
      "metadata": {
        "id": "KjSk3rD2UJHg"
      },
      "source": [
        "### defaultdict()"
      ]
    },
    {
      "cell_type": "code",
      "metadata": {
        "id": "OIXW9LnDdKtP"
      },
      "source": [
        "# another way to import only defaultdict\n",
        "from collections import defaultdict"
      ],
      "execution_count": 17,
      "outputs": []
    },
    {
      "cell_type": "code",
      "metadata": {
        "id": "_RCA2hTnUPgF",
        "colab": {
          "base_uri": "https://localhost:8080/",
          "height": 178
        },
        "outputId": "d42382fa-0624-40cd-cf26-e93c88018dea"
      },
      "source": [
        "regular_dict = {}\n",
        "regular_dict[0]+=1\n",
        "# this will raise an error as the key is non existent in the dictionary"
      ],
      "execution_count": 18,
      "outputs": [
        {
          "output_type": "error",
          "ename": "KeyError",
          "evalue": "ignored",
          "traceback": [
            "\u001b[0;31m---------------------------------------------------------------------------\u001b[0m",
            "\u001b[0;31mKeyError\u001b[0m                                  Traceback (most recent call last)",
            "\u001b[0;32m<ipython-input-18-9fc0c4fa7171>\u001b[0m in \u001b[0;36m<module>\u001b[0;34m()\u001b[0m\n\u001b[1;32m      1\u001b[0m \u001b[0mregular_dict\u001b[0m \u001b[0;34m=\u001b[0m \u001b[0;34m{\u001b[0m\u001b[0;34m}\u001b[0m\u001b[0;34m\u001b[0m\u001b[0;34m\u001b[0m\u001b[0m\n\u001b[0;32m----> 2\u001b[0;31m \u001b[0mregular_dict\u001b[0m\u001b[0;34m[\u001b[0m\u001b[0;36m0\u001b[0m\u001b[0;34m]\u001b[0m\u001b[0;34m+=\u001b[0m\u001b[0;36m1\u001b[0m\u001b[0;34m\u001b[0m\u001b[0;34m\u001b[0m\u001b[0m\n\u001b[0m",
            "\u001b[0;31mKeyError\u001b[0m: 0"
          ]
        }
      ]
    },
    {
      "cell_type": "code",
      "metadata": {
        "id": "4QrFKWeYUkPz",
        "colab": {
          "base_uri": "https://localhost:8080/"
        },
        "outputId": "ddd3a034-3ddf-4af6-83c6-2ad2205d2d32"
      },
      "source": [
        "default_dict = collections.defaultdict(int)\n",
        "default_dict[0]+=1\n",
        "print(default_dict)"
      ],
      "execution_count": 19,
      "outputs": [
        {
          "output_type": "stream",
          "text": [
            "defaultdict(<class 'int'>, {0: 1})\n"
          ],
          "name": "stdout"
        }
      ]
    },
    {
      "cell_type": "markdown",
      "metadata": {
        "id": "IZc4scQ5Vf7o"
      },
      "source": [
        "### OrderedDict()"
      ]
    },
    {
      "cell_type": "code",
      "metadata": {
        "id": "Qh9VR1qYdOXF"
      },
      "source": [
        "# another way to import only OrderedDict\n",
        "from collections import OrderedDict"
      ],
      "execution_count": 20,
      "outputs": []
    },
    {
      "cell_type": "code",
      "metadata": {
        "id": "5W87wCxZVnjH",
        "colab": {
          "base_uri": "https://localhost:8080/"
        },
        "outputId": "33032d7b-c5f4-480e-8665-ad1bb1ec3a61"
      },
      "source": [
        "regular_dict = {'A':2, 'B': 10, 'C':20}\n",
        "print(regular_dict)"
      ],
      "execution_count": 21,
      "outputs": [
        {
          "output_type": "stream",
          "text": [
            "{'A': 2, 'B': 10, 'C': 20}\n"
          ],
          "name": "stdout"
        }
      ]
    },
    {
      "cell_type": "code",
      "metadata": {
        "id": "39C4kddhV5EW",
        "colab": {
          "base_uri": "https://localhost:8080/"
        },
        "outputId": "bd25f2e5-fdc2-46f5-e848-afe50a0cc6a4"
      },
      "source": [
        "regular_dict['d']=1\n",
        "print(regular_dict)"
      ],
      "execution_count": 22,
      "outputs": [
        {
          "output_type": "stream",
          "text": [
            "{'A': 2, 'B': 10, 'C': 20, 'd': 1}\n"
          ],
          "name": "stdout"
        }
      ]
    },
    {
      "cell_type": "code",
      "metadata": {
        "id": "uaMGgw1AWbWY",
        "colab": {
          "base_uri": "https://localhost:8080/"
        },
        "outputId": "2c9a3036-5f51-49f1-8e5a-7a3b12b4946e"
      },
      "source": [
        "ordered_dict = collections.OrderedDict(regular_dict)\n",
        "print(ordered_dict)"
      ],
      "execution_count": 23,
      "outputs": [
        {
          "output_type": "stream",
          "text": [
            "OrderedDict([('A', 2), ('B', 10), ('C', 20), ('d', 1)])\n"
          ],
          "name": "stdout"
        }
      ]
    },
    {
      "cell_type": "code",
      "metadata": {
        "id": "yWyaZpGIWqCI",
        "colab": {
          "base_uri": "https://localhost:8080/"
        },
        "outputId": "6cb53837-a366-4401-bcda-beaf78e38932"
      },
      "source": [
        "del ordered_dict['B']\n",
        "print(ordered_dict)"
      ],
      "execution_count": 24,
      "outputs": [
        {
          "output_type": "stream",
          "text": [
            "OrderedDict([('A', 2), ('C', 20), ('d', 1)])\n"
          ],
          "name": "stdout"
        }
      ]
    },
    {
      "cell_type": "code",
      "metadata": {
        "id": "DYWfiI9iWwnh",
        "colab": {
          "base_uri": "https://localhost:8080/"
        },
        "outputId": "653786c3-4a9a-46ce-c24b-357f331d7c2f"
      },
      "source": [
        "ordered_dict['B'] = 15\n",
        "print(ordered_dict)"
      ],
      "execution_count": 25,
      "outputs": [
        {
          "output_type": "stream",
          "text": [
            "OrderedDict([('A', 2), ('C', 20), ('d', 1), ('B', 15)])\n"
          ],
          "name": "stdout"
        }
      ]
    },
    {
      "cell_type": "markdown",
      "metadata": {
        "id": "lDZb5pJ3XNkS"
      },
      "source": [
        "### namedtuple()"
      ]
    },
    {
      "cell_type": "code",
      "metadata": {
        "id": "NQm0ToEudXqV"
      },
      "source": [
        "# another way to import only namedtuple\n",
        "from collections import namedtuple"
      ],
      "execution_count": null,
      "outputs": []
    },
    {
      "cell_type": "code",
      "metadata": {
        "id": "lAvnUhGmhayr"
      },
      "source": [
        "# declaration of a regular tuple\n",
        "regular_tuple = ('a', 'abc', 1)"
      ],
      "execution_count": 26,
      "outputs": []
    },
    {
      "cell_type": "code",
      "metadata": {
        "id": "y53SK7GAhgRD",
        "colab": {
          "base_uri": "https://localhost:8080/"
        },
        "outputId": "439ef19b-0ec7-4d5c-afc2-c0ede47c9aa8"
      },
      "source": [
        "print(regular_tuple[0])"
      ],
      "execution_count": 27,
      "outputs": [
        {
          "output_type": "stream",
          "text": [
            "a\n"
          ],
          "name": "stdout"
        }
      ]
    },
    {
      "cell_type": "code",
      "metadata": {
        "id": "VeJJUgNqc2kr"
      },
      "source": [
        "# declaring a named tuple\n",
        "student_details = collections.namedtuple(\"Student\",['firstname', 'lastname', 'major','emailid'])"
      ],
      "execution_count": 28,
      "outputs": []
    },
    {
      "cell_type": "code",
      "metadata": {
        "id": "fTW_WNxqe-Y3"
      },
      "source": [
        "# creating a named tuple\n",
        "S181001 = student_details('John','Smith','Computer Science', 'johnsmith@email.org')"
      ],
      "execution_count": 29,
      "outputs": []
    },
    {
      "cell_type": "code",
      "metadata": {
        "id": "74TzxevTfa8G",
        "colab": {
          "base_uri": "https://localhost:8080/"
        },
        "outputId": "47138cd5-bc88-4d9d-bd6f-dace26c4f53c"
      },
      "source": [
        "print(S181001)"
      ],
      "execution_count": 30,
      "outputs": [
        {
          "output_type": "stream",
          "text": [
            "Student(firstname='John', lastname='Smith', major='Computer Science', emailid='johnsmith@email.org')\n"
          ],
          "name": "stdout"
        }
      ]
    },
    {
      "cell_type": "code",
      "metadata": {
        "id": "wkHVXFCUfa5J",
        "colab": {
          "base_uri": "https://localhost:8080/"
        },
        "outputId": "5d53d74f-bdd2-4bc7-ee22-27f0fc8454b3"
      },
      "source": [
        "# accessing particular values in the named tuple\n",
        "print(S181001.firstname, S181001.lastname)"
      ],
      "execution_count": 31,
      "outputs": [
        {
          "output_type": "stream",
          "text": [
            "John Smith\n"
          ],
          "name": "stdout"
        }
      ]
    },
    {
      "cell_type": "code",
      "metadata": {
        "id": "f-Af2lGLfa1F",
        "colab": {
          "base_uri": "https://localhost:8080/",
          "height": 162
        },
        "outputId": "3e3c2b5b-eff9-4156-b9d8-34dd138e84de"
      },
      "source": [
        "S181002 = student_details(lastname='Cage', firstname='Nick', major='Acting')\n",
        "# this will raise an error as we need to add values for all attributes of the named tuple"
      ],
      "execution_count": 32,
      "outputs": [
        {
          "output_type": "error",
          "ename": "TypeError",
          "evalue": "ignored",
          "traceback": [
            "\u001b[0;31m---------------------------------------------------------------------------\u001b[0m",
            "\u001b[0;31mTypeError\u001b[0m                                 Traceback (most recent call last)",
            "\u001b[0;32m<ipython-input-32-4c666b761ba4>\u001b[0m in \u001b[0;36m<module>\u001b[0;34m()\u001b[0m\n\u001b[0;32m----> 1\u001b[0;31m \u001b[0mS181002\u001b[0m \u001b[0;34m=\u001b[0m \u001b[0mstudent_details\u001b[0m\u001b[0;34m(\u001b[0m\u001b[0mlastname\u001b[0m\u001b[0;34m=\u001b[0m\u001b[0;34m'Cage'\u001b[0m\u001b[0;34m,\u001b[0m \u001b[0mfirstname\u001b[0m\u001b[0;34m=\u001b[0m\u001b[0;34m'Nick'\u001b[0m\u001b[0;34m,\u001b[0m \u001b[0mmajor\u001b[0m\u001b[0;34m=\u001b[0m\u001b[0;34m'Acting'\u001b[0m\u001b[0;34m)\u001b[0m\u001b[0;34m\u001b[0m\u001b[0;34m\u001b[0m\u001b[0m\n\u001b[0m",
            "\u001b[0;31mTypeError\u001b[0m: __new__() missing 1 required positional argument: 'emailid'"
          ]
        }
      ]
    },
    {
      "cell_type": "code",
      "metadata": {
        "id": "gm4qokBTfarq"
      },
      "source": [
        "S181002 = student_details(lastname='Cage', firstname='Nick', major='Acting', emailid='nick@email.com')"
      ],
      "execution_count": 33,
      "outputs": []
    },
    {
      "cell_type": "code",
      "metadata": {
        "id": "ghJDd9z8idcK",
        "colab": {
          "base_uri": "https://localhost:8080/"
        },
        "outputId": "0af2a984-c816-4f28-e0e2-ba262e8bd4b4"
      },
      "source": [
        "print(S181002.firstname,S181002.lastname,'is a(n)',S181002.major,'major')"
      ],
      "execution_count": 34,
      "outputs": [
        {
          "output_type": "stream",
          "text": [
            "Nick Cage is a(n) Acting major\n"
          ],
          "name": "stdout"
        }
      ]
    },
    {
      "cell_type": "markdown",
      "metadata": {
        "id": "r8hsmwF5Fq0e"
      },
      "source": [
        "### ChainedMap()"
      ]
    },
    {
      "cell_type": "code",
      "metadata": {
        "id": "qvwcSqESFtMy"
      },
      "source": [
        "# another way to import ChainedMap()\n",
        "from collections import ChainMap()"
      ],
      "execution_count": null,
      "outputs": []
    },
    {
      "cell_type": "code",
      "metadata": {
        "id": "FONHtzNbELNL"
      },
      "source": [
        "p1 = {\"name\":\"John\",\"email_id\":\"john@university.org\",\"ID\":\"C10215\"}\n",
        "p2 = {\"name\":\"Ram\",\"email_id\":\"ram@university.org\",\"classes\":[\"C101\",\"S204\",\"DA065\"]}\n",
        "p3 = {\"name\":\"Wendy\",\"email_id\":\"wendy@university.org\",\"GPA\":\"3.0\"}"
      ],
      "execution_count": 35,
      "outputs": []
    },
    {
      "cell_type": "code",
      "metadata": {
        "id": "GbmcAwtHF2zC"
      },
      "source": [
        "# itertools.chainedMap() encapsulates many dictionaries into one unit.\n",
        "chain = collections.ChainMap(p1,p2,p3)"
      ],
      "execution_count": 36,
      "outputs": []
    },
    {
      "cell_type": "code",
      "metadata": {
        "id": "5DKJlsJAF2rI",
        "colab": {
          "base_uri": "https://localhost:8080/"
        },
        "outputId": "49f2d22e-6aec-4d88-8f81-560af72a125a"
      },
      "source": [
        "# print all the keys in the chainedmap\n",
        "print(\"Keys in chain\")\n",
        "print(list(chain.keys()))"
      ],
      "execution_count": 37,
      "outputs": [
        {
          "output_type": "stream",
          "text": [
            "Keys in chain\n",
            "['name', 'email_id', 'GPA', 'classes', 'ID']\n"
          ],
          "name": "stdout"
        }
      ]
    },
    {
      "cell_type": "code",
      "metadata": {
        "id": "wQUB8rV5GMEs",
        "colab": {
          "base_uri": "https://localhost:8080/"
        },
        "outputId": "a5d3f653-4cc5-4abd-f4f0-16e007c2cdb4"
      },
      "source": [
        "# print all the values in the chainedmap\n",
        "print(\"Values in chain\")\n",
        "print(list(chain.values()))"
      ],
      "execution_count": 38,
      "outputs": [
        {
          "output_type": "stream",
          "text": [
            "Values in chain\n",
            "['John', 'john@university.org', '3.0', ['C101', 'S204', 'DA065'], 'C10215']\n"
          ],
          "name": "stdout"
        }
      ]
    },
    {
      "cell_type": "code",
      "metadata": {
        "id": "-IwZ10SWGcLm",
        "colab": {
          "base_uri": "https://localhost:8080/"
        },
        "outputId": "5ec40327-3aa2-4cb0-ce47-5e120f240b79"
      },
      "source": [
        "print(\"All values in chain\")\n",
        "print(chain.maps)"
      ],
      "execution_count": 39,
      "outputs": [
        {
          "output_type": "stream",
          "text": [
            "All values in chain\n",
            "[{'name': 'John', 'email_id': 'john@university.org', 'ID': 'C10215'}, {'name': 'Ram', 'email_id': 'ram@university.org', 'classes': ['C101', 'S204', 'DA065']}, {'name': 'Wendy', 'email_id': 'wendy@university.org', 'GPA': '3.0'}]\n"
          ],
          "name": "stdout"
        }
      ]
    },
    {
      "cell_type": "code",
      "metadata": {
        "id": "wIZn0X2dHIdK"
      },
      "source": [
        "pens = {\"Ballpoint Pen-Blue\":30,\"Ballpoint Pen-Black\":5,\"Gel Pen-Blue\":50,\"Gel Pen-Black\":10}\n",
        "notebooks = {\"Wide-Ruled-175\":200,\"Wide-Unruled-175\":160,\"A4-Ruled-200\":350,\"A4-Unruled-100\":10}\n",
        "rulers = {\"Long Ruler-12in\":100,\"Short Ruler-6in\":30}\n",
        "calculator = {\"Basic Calculator\":50,\"Scientific Calculator\":20}\n",
        "erasers = {\"Basic Eraser\":5,\"With Pictures\":60}\n",
        "\n",
        "\n",
        "store_inventory = collections.ChainMap(pens,notebooks,rulers,calculator,erasers)"
      ],
      "execution_count": 40,
      "outputs": []
    },
    {
      "cell_type": "code",
      "metadata": {
        "id": "0SD9nixNItw-",
        "colab": {
          "base_uri": "https://localhost:8080/"
        },
        "outputId": "dd78c6ec-e448-4982-e4ce-6714a1c60d2f"
      },
      "source": [
        "print (\"All items in inventory : \")\n",
        "print (list(store_inventory.keys()))"
      ],
      "execution_count": 41,
      "outputs": [
        {
          "output_type": "stream",
          "text": [
            "All items in inventory : \n",
            "['Basic Eraser', 'With Pictures', 'Basic Calculator', 'Scientific Calculator', 'Long Ruler-12in', 'Short Ruler-6in', 'Wide-Ruled-175', 'Wide-Unruled-175', 'A4-Ruled-200', 'A4-Unruled-100', 'Ballpoint Pen-Blue', 'Ballpoint Pen-Black', 'Gel Pen-Blue', 'Gel Pen-Black']\n"
          ],
          "name": "stdout"
        }
      ]
    },
    {
      "cell_type": "code",
      "metadata": {
        "id": "9VBFvEWSJEkm",
        "colab": {
          "base_uri": "https://localhost:8080/"
        },
        "outputId": "2f1f192f-8b45-46d4-de2b-ac5de2380239"
      },
      "source": [
        "print(store_inventory['Wide-Ruled-175'])"
      ],
      "execution_count": 42,
      "outputs": [
        {
          "output_type": "stream",
          "text": [
            "200\n"
          ],
          "name": "stdout"
        }
      ]
    },
    {
      "cell_type": "code",
      "metadata": {
        "id": "8anhnH1iJ9WX",
        "colab": {
          "base_uri": "https://localhost:8080/"
        },
        "outputId": "cf096679-ed77-43c6-d48b-59c6348d7edb"
      },
      "source": [
        "print(store_inventory[\"Basic Eraser\"])"
      ],
      "execution_count": 43,
      "outputs": [
        {
          "output_type": "stream",
          "text": [
            "5\n"
          ],
          "name": "stdout"
        }
      ]
    },
    {
      "cell_type": "code",
      "metadata": {
        "id": "eXR1gzF5KDZy"
      },
      "source": [
        "erasers[\"Basic Eraser\"] -= 5"
      ],
      "execution_count": 44,
      "outputs": []
    },
    {
      "cell_type": "code",
      "metadata": {
        "id": "bvCJzodKKLi-",
        "colab": {
          "base_uri": "https://localhost:8080/"
        },
        "outputId": "6139d917-b462-4034-f653-dcd58ee76473"
      },
      "source": [
        "print(store_inventory[\"Basic Eraser\"])"
      ],
      "execution_count": 45,
      "outputs": [
        {
          "output_type": "stream",
          "text": [
            "0\n"
          ],
          "name": "stdout"
        }
      ]
    },
    {
      "cell_type": "code",
      "metadata": {
        "id": "8B5mm6dzKNtM",
        "colab": {
          "base_uri": "https://localhost:8080/"
        },
        "outputId": "6ed7f01c-faca-4854-bfa3-a7ef6d9d72f6"
      },
      "source": [
        "print(store_inventory.get(\"Folders\"))"
      ],
      "execution_count": 46,
      "outputs": [
        {
          "output_type": "stream",
          "text": [
            "None\n"
          ],
          "name": "stdout"
        }
      ]
    },
    {
      "cell_type": "code",
      "metadata": {
        "id": "N0w9RHY7Kts3",
        "colab": {
          "base_uri": "https://localhost:8080/"
        },
        "outputId": "52b8e4e6-c256-49f0-c097-e069c185b974"
      },
      "source": [
        "# .new_child() adds a new dictionary to the beginning of the ChainMap.\n",
        "folders={\"Ring Folder\":15}\n",
        "store_inventory.new_child(folders)"
      ],
      "execution_count": 47,
      "outputs": [
        {
          "output_type": "execute_result",
          "data": {
            "text/plain": [
              "ChainMap({'Ring Folder': 15}, {'Ballpoint Pen-Blue': 30, 'Ballpoint Pen-Black': 5, 'Gel Pen-Blue': 50, 'Gel Pen-Black': 10}, {'Wide-Ruled-175': 200, 'Wide-Unruled-175': 160, 'A4-Ruled-200': 350, 'A4-Unruled-100': 10}, {'Long Ruler-12in': 100, 'Short Ruler-6in': 30}, {'Basic Calculator': 50, 'Scientific Calculator': 20}, {'Basic Eraser': 0, 'With Pictures': 60})"
            ]
          },
          "metadata": {
            "tags": []
          },
          "execution_count": 47
        }
      ]
    },
    {
      "cell_type": "markdown",
      "metadata": {
        "id": "DtXo9XK39P6q"
      },
      "source": [
        "--------------------------"
      ]
    },
    {
      "cell_type": "markdown",
      "metadata": {
        "id": "n8zUcgW-9MpG"
      },
      "source": [
        "## itertools"
      ]
    },
    {
      "cell_type": "code",
      "metadata": {
        "id": "Bie8JRMn9c-Q"
      },
      "source": [
        "import itertools"
      ],
      "execution_count": 49,
      "outputs": []
    },
    {
      "cell_type": "markdown",
      "metadata": {
        "id": "NLE-GfSr6j_U"
      },
      "source": [
        "### count()"
      ]
    },
    {
      "cell_type": "code",
      "metadata": {
        "id": "Ygm_OlGT9c0F",
        "colab": {
          "base_uri": "https://localhost:8080/"
        },
        "outputId": "8c37cece-5fba-4cf1-9011-7820579959b8"
      },
      "source": [
        "# itertools.count(start,step) starts printing from the “start” number and prints infinitely\n",
        "\n",
        "for i in itertools.count(0,10):\n",
        "  if i>100:\n",
        "    break\n",
        "  print(i,end=' ')"
      ],
      "execution_count": 50,
      "outputs": [
        {
          "output_type": "stream",
          "text": [
            "0 10 20 30 40 50 60 70 80 90 100 "
          ],
          "name": "stdout"
        }
      ]
    },
    {
      "cell_type": "markdown",
      "metadata": {
        "id": "yvQOenD_6otu"
      },
      "source": [
        "### cycle()"
      ]
    },
    {
      "cell_type": "code",
      "metadata": {
        "id": "skY4M5ZkoKHJ",
        "colab": {
          "base_uri": "https://localhost:8080/"
        },
        "outputId": "cfba424e-2da8-4f8a-f7d0-9d582ac98dab"
      },
      "source": [
        "vowels = [\"A\",\"E\",\"I\",\"O\",\"U\"]\n",
        "\n",
        "# itertools.cycle(iterable) takes in an iterable and goes over it indefinitely​\n",
        "flag = 0\n",
        "\n",
        "for i in itertools.cycle(vowels):\n",
        "  if flag==9:\n",
        "    break\n",
        "\n",
        "  print(i,end=' ')\n",
        "  flag+=1"
      ],
      "execution_count": 51,
      "outputs": [
        {
          "output_type": "stream",
          "text": [
            "A E I O U A E I O "
          ],
          "name": "stdout"
        }
      ]
    },
    {
      "cell_type": "code",
      "metadata": {
        "id": "mJ3fgV_7seOr",
        "colab": {
          "base_uri": "https://localhost:8080/"
        },
        "outputId": "414c98f8-605c-4828-ce86-591d5fd3ffc5"
      },
      "source": [
        "vowels = [\"A\",\"E\",\"I\",\"O\",\"U\"]\n",
        "\n",
        "# itertools.cycle(iterable) takes in an iterable and goes over it indefinitely​\n",
        "\n",
        "v = itertools.cycle(vowels)\n",
        "for i in range(2):\n",
        "  print(next(v),end=' ')\n",
        "  "
      ],
      "execution_count": 52,
      "outputs": [
        {
          "output_type": "stream",
          "text": [
            "A E "
          ],
          "name": "stdout"
        }
      ]
    },
    {
      "cell_type": "markdown",
      "metadata": {
        "id": "yLH1S2VP6rU8"
      },
      "source": [
        "### repeat()\n"
      ]
    },
    {
      "cell_type": "code",
      "metadata": {
        "id": "Feh4IZLC9cpI",
        "colab": {
          "base_uri": "https://localhost:8080/"
        },
        "outputId": "5ba49879-f635-4e77-dc76-6df26b40aaa1"
      },
      "source": [
        "repeated_nums = list(itertools.repeat(1,5))\n",
        "print(repeated_nums)"
      ],
      "execution_count": 53,
      "outputs": [
        {
          "output_type": "stream",
          "text": [
            "[1, 1, 1, 1, 1]\n"
          ],
          "name": "stdout"
        }
      ]
    },
    {
      "cell_type": "code",
      "metadata": {
        "id": "IcrVpR-ZtU6q",
        "colab": {
          "base_uri": "https://localhost:8080/"
        },
        "outputId": "581f25de-bfde-4b27-c6bc-d7e7f5e4bfe3"
      },
      "source": [
        "hi = \"hi\"\n",
        "string = itertools.repeat(hi,2)\n",
        "for word in string:\n",
        "  print(word)"
      ],
      "execution_count": 54,
      "outputs": [
        {
          "output_type": "stream",
          "text": [
            "hi\n",
            "hi\n"
          ],
          "name": "stdout"
        }
      ]
    },
    {
      "cell_type": "markdown",
      "metadata": {
        "id": "oEtTediw6vI7"
      },
      "source": [
        "### product()"
      ]
    },
    {
      "cell_type": "code",
      "metadata": {
        "id": "5yaDNtpmtx2j",
        "colab": {
          "base_uri": "https://localhost:8080/"
        },
        "outputId": "7597bd13-4a93-4126-b4f3-a39b7ac0e857"
      },
      "source": [
        "# itertools.product() computes the cartesian product of input iterables\n",
        "Set = {1,2,3,5}\n",
        "cartesian_product = itertools.product(Set,repeat=2)\n",
        "\n",
        "for s in cartesian_product:\n",
        "  print(s,end=\" \")"
      ],
      "execution_count": 55,
      "outputs": [
        {
          "output_type": "stream",
          "text": [
            "(1, 1) (1, 2) (1, 3) (1, 5) (2, 1) (2, 2) (2, 3) (2, 5) (3, 1) (3, 2) (3, 3) (3, 5) (5, 1) (5, 2) (5, 3) (5, 5) "
          ],
          "name": "stdout"
        }
      ]
    },
    {
      "cell_type": "code",
      "metadata": {
        "id": "5zaVqRQyuoVO",
        "colab": {
          "base_uri": "https://localhost:8080/"
        },
        "outputId": "3de7f1c3-1d5e-487d-d0d2-ec857bdea8f8"
      },
      "source": [
        "# itertools.product() computes the cartesian product of input iterables\n",
        "Set = {1,2,3,5}\n",
        "Alph = [\"A\",\"B\"]\n",
        "cartesian_product = itertools.product(Set,Alph)\n",
        "\n",
        "for s in cartesian_product:\n",
        "  print(s,end=\" \")"
      ],
      "execution_count": 56,
      "outputs": [
        {
          "output_type": "stream",
          "text": [
            "(1, 'A') (1, 'B') (2, 'A') (2, 'B') (3, 'A') (3, 'B') (5, 'A') (5, 'B') "
          ],
          "name": "stdout"
        }
      ]
    },
    {
      "cell_type": "markdown",
      "metadata": {
        "id": "s9gAQmlB6y3I"
      },
      "source": [
        "### permutations()"
      ]
    },
    {
      "cell_type": "code",
      "metadata": {
        "id": "YrHpNXgVuusM",
        "colab": {
          "base_uri": "https://localhost:8080/"
        },
        "outputId": "80dfd121-a145-41b7-80c9-ab7cdea80ae9"
      },
      "source": [
        "# permutations() generates all possible permutations of an iterable\n",
        "alph = [\"a\",\"b\",\"c\",\"d\"]\n",
        "perm_alph = itertools.permutations(alph)\n",
        "\n",
        "for i in perm_alph:\n",
        "  print(i,end=\" \")"
      ],
      "execution_count": 57,
      "outputs": [
        {
          "output_type": "stream",
          "text": [
            "('a', 'b', 'c', 'd') ('a', 'b', 'd', 'c') ('a', 'c', 'b', 'd') ('a', 'c', 'd', 'b') ('a', 'd', 'b', 'c') ('a', 'd', 'c', 'b') ('b', 'a', 'c', 'd') ('b', 'a', 'd', 'c') ('b', 'c', 'a', 'd') ('b', 'c', 'd', 'a') ('b', 'd', 'a', 'c') ('b', 'd', 'c', 'a') ('c', 'a', 'b', 'd') ('c', 'a', 'd', 'b') ('c', 'b', 'a', 'd') ('c', 'b', 'd', 'a') ('c', 'd', 'a', 'b') ('c', 'd', 'b', 'a') ('d', 'a', 'b', 'c') ('d', 'a', 'c', 'b') ('d', 'b', 'a', 'c') ('d', 'b', 'c', 'a') ('d', 'c', 'a', 'b') ('d', 'c', 'b', 'a') "
          ],
          "name": "stdout"
        }
      ]
    },
    {
      "cell_type": "code",
      "metadata": {
        "id": "WGE0S-XEvh47",
        "colab": {
          "base_uri": "https://localhost:8080/"
        },
        "outputId": "6fa69d60-0fd8-45f0-ce4e-79b79c9d5069"
      },
      "source": [
        "perm_alph_2 = itertools.permutations(alph,2)\n",
        "for i in perm_alph_2:\n",
        "  print(i,end=\" \")"
      ],
      "execution_count": 58,
      "outputs": [
        {
          "output_type": "stream",
          "text": [
            "('a', 'b') ('a', 'c') ('a', 'd') ('b', 'a') ('b', 'c') ('b', 'd') ('c', 'a') ('c', 'b') ('c', 'd') ('d', 'a') ('d', 'b') ('d', 'c') "
          ],
          "name": "stdout"
        }
      ]
    },
    {
      "cell_type": "markdown",
      "metadata": {
        "id": "WAgFjHRC698J"
      },
      "source": [
        "### combinations()"
      ]
    },
    {
      "cell_type": "code",
      "metadata": {
        "id": "rirvEKttvl6j",
        "colab": {
          "base_uri": "https://localhost:8080/"
        },
        "outputId": "50d67bd1-e413-46c3-e1f3-32b584a6264a"
      },
      "source": [
        "# itertools.combinations() prints all the possible combinations of the container \n",
        "# with the specified group size in sorted order\n",
        "\n",
        "nums = (1,2,3)\n",
        "combs = itertools.combinations(nums,2)\n",
        "for i in combs:\n",
        "  print(i,end=\" \")"
      ],
      "execution_count": 59,
      "outputs": [
        {
          "output_type": "stream",
          "text": [
            "(1, 2) (1, 3) (2, 3) "
          ],
          "name": "stdout"
        }
      ]
    },
    {
      "cell_type": "markdown",
      "metadata": {
        "id": "SGALj8rX7Anq"
      },
      "source": [
        "### chain()"
      ]
    },
    {
      "cell_type": "code",
      "metadata": {
        "id": "cl-WMVeFwI03",
        "colab": {
          "base_uri": "https://localhost:8080/"
        },
        "outputId": "e48d5dba-eddb-49c2-c1e7-af601c7e5ce3"
      },
      "source": [
        "# itertools.chain() accepts a variable number of iterables and loops through all of them one by one\n",
        "nums = {1,2,3,4,5}\n",
        "vowels = [\"A\",\"E\",\"I\",\"O\",\"U\"]\n",
        "lower_case = [\"a\",\"e\",\"i\",\"o\",\"u\"]\n",
        "\n",
        "chain = itertools.chain(nums,vowels,lower_case)\n",
        "\n",
        "for c in chain:\n",
        "  print(c, end=\" \")"
      ],
      "execution_count": 60,
      "outputs": [
        {
          "output_type": "stream",
          "text": [
            "1 2 3 4 5 A E I O U a e i o u "
          ],
          "name": "stdout"
        }
      ]
    },
    {
      "cell_type": "markdown",
      "metadata": {
        "id": "fIDcfZoJ7CNL"
      },
      "source": [
        "### compress()"
      ]
    },
    {
      "cell_type": "code",
      "metadata": {
        "id": "ANWVwoBPxwR7",
        "colab": {
          "base_uri": "https://localhost:8080/"
        },
        "outputId": "68c6d8a3-4ea2-46e2-bfc5-5ba7a6592284"
      },
      "source": [
        "# itertools.compress() takes in an iterable and a selector, \n",
        "# and returns an iterable with only those items for which the corresponding selector value is true\n",
        "\n",
        "nums = [1,2,8,5,7,10]\n",
        "T_F = [False,True,True,False,False,True]\n",
        "\n",
        "even = itertools.compress(nums,T_F)\n",
        "\n",
        "for num in even:\n",
        "  print(num,end=\" \")"
      ],
      "execution_count": 61,
      "outputs": [
        {
          "output_type": "stream",
          "text": [
            "2 8 10 "
          ],
          "name": "stdout"
        }
      ]
    },
    {
      "cell_type": "markdown",
      "metadata": {
        "id": "G-aIWKfK7Flc"
      },
      "source": [
        "### dropwhile()"
      ]
    },
    {
      "cell_type": "code",
      "metadata": {
        "id": "ayUHM7NGyQO5",
        "colab": {
          "base_uri": "https://localhost:8080/"
        },
        "outputId": "19513fc9-af9f-4df2-8d7f-3631f6c2c4be"
      },
      "source": [
        "# itertools.dropwhile() keeps on dropping values from the iterable based on the function \n",
        "# until it encounters the first element that evaluates to false\n",
        "\n",
        "nums = [1,25,0,3,2,1]\n",
        "till_zero = itertools.dropwhile(lambda x: x!=0,nums)\n",
        "\n",
        "for n in till_zero:\n",
        "  print(n,end=\" \")"
      ],
      "execution_count": 62,
      "outputs": [
        {
          "output_type": "stream",
          "text": [
            "0 3 2 1 "
          ],
          "name": "stdout"
        }
      ]
    },
    {
      "cell_type": "markdown",
      "metadata": {
        "id": "BsH87vJl9eNz"
      },
      "source": [
        "------------------------------"
      ]
    }
  ]
}
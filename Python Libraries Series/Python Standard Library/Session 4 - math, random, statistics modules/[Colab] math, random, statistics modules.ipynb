{
  "nbformat": 4,
  "nbformat_minor": 0,
  "metadata": {
    "colab": {
      "name": "Session #4: Python Standard Library: Mathematical Computations",
      "provenance": [],
      "collapsed_sections": []
    },
    "kernelspec": {
      "name": "python3",
      "display_name": "Python 3"
    },
    "language_info": {
      "name": "python"
    }
  },
  "cells": [
    {
      "cell_type": "markdown",
      "metadata": {
        "id": "NbreNcqX8BEv"
      },
      "source": [
        "# Python Libraries 101\n",
        "\n",
        "## Session #4: Mathematical Computations"
      ]
    },
    {
      "cell_type": "markdown",
      "metadata": {
        "id": "-hu7bxJx8Zn_"
      },
      "source": [
        "## List of Topics:\n",
        "  1. random\n",
        "  2. math\n",
        "  3. statistics"
      ]
    },
    {
      "cell_type": "markdown",
      "metadata": {
        "id": "vgbevLxl8-74"
      },
      "source": [
        "-----------------------------------\n",
        "-----------------------------------"
      ]
    },
    {
      "cell_type": "markdown",
      "metadata": {
        "id": "lRzaOgKg9IQw"
      },
      "source": [
        "## random module"
      ]
    },
    {
      "cell_type": "code",
      "metadata": {
        "id": "UghN4LDM9L1v"
      },
      "source": [
        "import random  # we don't need to install it separately"
      ],
      "execution_count": 1,
      "outputs": []
    },
    {
      "cell_type": "markdown",
      "metadata": {
        "id": "vzzDjmezbCW_"
      },
      "source": [
        "### Functions"
      ]
    },
    {
      "cell_type": "markdown",
      "metadata": {
        "id": "1DXW2Dnx-1_z"
      },
      "source": [
        "random.seed(), random.randint(), random.randrange()"
      ]
    },
    {
      "cell_type": "code",
      "metadata": {
        "colab": {
          "base_uri": "https://localhost:8080/"
        },
        "id": "Jcp_eOjR-aYT",
        "outputId": "288d22c9-4988-4962-c304-dc96ef6749b8"
      },
      "source": [
        "random.seed(8) # initialises the random number generator, causing the same number to be generated \n",
        "print(random.randint(0,10))"
      ],
      "execution_count": 46,
      "outputs": [
        {
          "output_type": "stream",
          "text": [
            "3\n"
          ],
          "name": "stdout"
        }
      ]
    },
    {
      "cell_type": "code",
      "metadata": {
        "id": "nVl0-z4q9Lnm",
        "colab": {
          "base_uri": "https://localhost:8080/"
        },
        "outputId": "45d1753a-82e5-4379-e2e6-04868b92f63e"
      },
      "source": [
        "random.randrange(0,20) # returns a random number between the given range, includes starting term, excludes last term"
      ],
      "execution_count": 10,
      "outputs": [
        {
          "output_type": "execute_result",
          "data": {
            "text/plain": [
              "9"
            ]
          },
          "metadata": {
            "tags": []
          },
          "execution_count": 10
        }
      ]
    },
    {
      "cell_type": "code",
      "metadata": {
        "colab": {
          "base_uri": "https://localhost:8080/"
        },
        "id": "PSXfYZ1-7ZAf",
        "outputId": "0ef1b058-49f2-4c50-e364-543a3364e38f"
      },
      "source": [
        "random.randrange(0,10,2) \n",
        "# returns a random number between the given range, \n",
        "# includes starting term, excludes last term, divisible by step term"
      ],
      "execution_count": 13,
      "outputs": [
        {
          "output_type": "execute_result",
          "data": {
            "text/plain": [
              "2"
            ]
          },
          "metadata": {
            "tags": []
          },
          "execution_count": 13
        }
      ]
    },
    {
      "cell_type": "code",
      "metadata": {
        "id": "p2CnzMAu9Plo",
        "colab": {
          "base_uri": "https://localhost:8080/"
        },
        "outputId": "3f574a6d-9b3e-4c5f-ecc8-11fbdb96f516"
      },
      "source": [
        "random.randint(30,100) # returns a random number between the given range, includes starting term and last term"
      ],
      "execution_count": 16,
      "outputs": [
        {
          "output_type": "execute_result",
          "data": {
            "text/plain": [
              "50"
            ]
          },
          "metadata": {
            "tags": []
          },
          "execution_count": 16
        }
      ]
    },
    {
      "cell_type": "markdown",
      "metadata": {
        "id": "FNK0ToQs63ox"
      },
      "source": [
        "Generate 3 random integers between 100 and 999 (does not include endpoints) which is divisible by 5"
      ]
    },
    {
      "cell_type": "code",
      "metadata": {
        "colab": {
          "base_uri": "https://localhost:8080/"
        },
        "id": "ZCcJhedD8NC3",
        "outputId": "c2cca7fc-9d48-4a52-8d4f-d7fb3b50e151"
      },
      "source": [
        "for i in range (3):\n",
        "  print(random.randrange(105,999,5))"
      ],
      "execution_count": 20,
      "outputs": [
        {
          "output_type": "stream",
          "text": [
            "150\n",
            "140\n",
            "570\n"
          ],
          "name": "stdout"
        }
      ]
    },
    {
      "cell_type": "markdown",
      "metadata": {
        "id": "jueCse2z-_Eh"
      },
      "source": [
        "random.choice(), random.shuffle()"
      ]
    },
    {
      "cell_type": "code",
      "metadata": {
        "id": "V521yWJobUKr",
        "colab": {
          "base_uri": "https://localhost:8080/",
          "height": 35
        },
        "outputId": "90a6464c-23f6-4038-ea74-23b75f99b462"
      },
      "source": [
        "random.choice(\"hello world\")"
      ],
      "execution_count": 23,
      "outputs": [
        {
          "output_type": "execute_result",
          "data": {
            "application/vnd.google.colaboratory.intrinsic+json": {
              "type": "string"
            },
            "text/plain": [
              "'w'"
            ]
          },
          "metadata": {
            "tags": []
          },
          "execution_count": 23
        }
      ]
    },
    {
      "cell_type": "code",
      "metadata": {
        "id": "m_zhNYTY_FEo",
        "colab": {
          "base_uri": "https://localhost:8080/"
        },
        "outputId": "b38a0c96-6a3f-4323-fcb8-ca579a6fd6f8"
      },
      "source": [
        "lst=['a','b','c','d','e','f']\n",
        "random.shuffle(lst)\n",
        "print(lst)"
      ],
      "execution_count": 26,
      "outputs": [
        {
          "output_type": "stream",
          "text": [
            "['e', 'a', 'd', 'c', 'f', 'b']\n"
          ],
          "name": "stdout"
        }
      ]
    },
    {
      "cell_type": "markdown",
      "metadata": {
        "id": "OTAgXRP5859i"
      },
      "source": [
        "Shuffle the list of names then pick a random name from the list"
      ]
    },
    {
      "cell_type": "code",
      "metadata": {
        "id": "bB7cb1PGbV7C",
        "colab": {
          "base_uri": "https://localhost:8080/"
        },
        "outputId": "acce12cb-0615-45dd-d460-d44e930b481c"
      },
      "source": [
        "list_of_names=['Soumya','Karen','Shermaine','Mary','Amber','Stephanie','Archana']\n",
        "random.shuffle(list_of_names)\n",
        "print(random.choice(list_of_names))"
      ],
      "execution_count": 29,
      "outputs": [
        {
          "output_type": "stream",
          "text": [
            "Karen\n"
          ],
          "name": "stdout"
        }
      ]
    },
    {
      "cell_type": "markdown",
      "metadata": {
        "id": "mmLvySVF_g4T"
      },
      "source": [
        "Roll the dice 5 times, but in a way that every time you roll, you get the same number"
      ]
    },
    {
      "cell_type": "code",
      "metadata": {
        "id": "_t-VtBUbbYGS",
        "colab": {
          "base_uri": "https://localhost:8080/"
        },
        "outputId": "198a2f3c-3e8f-4d02-c8e9-0bc4414c3e51"
      },
      "source": [
        "dice = [1,2,3,4,5,6]\n",
        "print(\"Randomly selecting the same number of a dice\")\n",
        "for i in range(5):\n",
        "  random.seed(9)\n",
        "  print(random.choice(dice))"
      ],
      "execution_count": 37,
      "outputs": [
        {
          "output_type": "stream",
          "text": [
            "Randomly selecting the same number of a dice\n",
            "4\n",
            "4\n",
            "4\n",
            "4\n",
            "4\n"
          ],
          "name": "stdout"
        }
      ]
    },
    {
      "cell_type": "markdown",
      "metadata": {
        "id": "kWZ3cu7ZL51y"
      },
      "source": [
        "random.random(), random.uniform()"
      ]
    },
    {
      "cell_type": "code",
      "metadata": {
        "id": "xG5xyYuYL9U0",
        "colab": {
          "base_uri": "https://localhost:8080/"
        },
        "outputId": "5569aa18-e713-4d98-ea37-fab6d2a00574"
      },
      "source": [
        "random.random() # returns a random float number between 0 and 1"
      ],
      "execution_count": 39,
      "outputs": [
        {
          "output_type": "execute_result",
          "data": {
            "text/plain": [
              "0.2671344216059104"
            ]
          },
          "metadata": {
            "tags": []
          },
          "execution_count": 39
        }
      ]
    },
    {
      "cell_type": "code",
      "metadata": {
        "id": "aoKFThBcMHLQ",
        "colab": {
          "base_uri": "https://localhost:8080/"
        },
        "outputId": "7fc687b8-6e72-434f-d364-94dd9b865d81"
      },
      "source": [
        "random.uniform(2.0975,5) # returns a random float number between two given parameters"
      ],
      "execution_count": 47,
      "outputs": [
        {
          "output_type": "execute_result",
          "data": {
            "text/plain": [
              "3.1726204601717094"
            ]
          },
          "metadata": {
            "tags": []
          },
          "execution_count": 47
        }
      ]
    },
    {
      "cell_type": "markdown",
      "metadata": {
        "id": "ePJDbAzCMjcB"
      },
      "source": [
        "Calculate multiplication of two random float numbers"
      ]
    },
    {
      "cell_type": "code",
      "metadata": {
        "id": "vCbgxpaoMkeW",
        "colab": {
          "base_uri": "https://localhost:8080/"
        },
        "outputId": "8a7c7db2-2266-4d15-eaf4-a45fc9da9c93"
      },
      "source": [
        "num1 = random.random()\n",
        "num2 = random.random()\n",
        "print(\"Number 1: \",num1)\n",
        "print(\"Number 2: \",num2)\n",
        "print(num1*num2)"
      ],
      "execution_count": 44,
      "outputs": [
        {
          "output_type": "stream",
          "text": [
            "Number 1:  0.9363858671236786\n",
            "Number 2:  0.7000982987947446\n",
            "0.6555621525887292\n"
          ],
          "name": "stdout"
        }
      ]
    },
    {
      "cell_type": "markdown",
      "metadata": {
        "id": "DtXo9XK39P6q"
      },
      "source": [
        "--------------------------"
      ]
    },
    {
      "cell_type": "markdown",
      "metadata": {
        "id": "n8zUcgW-9MpG"
      },
      "source": [
        "## math module"
      ]
    },
    {
      "cell_type": "code",
      "metadata": {
        "id": "Bie8JRMn9c-Q"
      },
      "source": [
        "import math"
      ],
      "execution_count": 48,
      "outputs": []
    },
    {
      "cell_type": "markdown",
      "metadata": {
        "id": "r9IYK5Nnd1Dy"
      },
      "source": [
        "### Functions"
      ]
    },
    {
      "cell_type": "markdown",
      "metadata": {
        "id": "-Lwwn5n8rKoa"
      },
      "source": [
        "Conversion between radians and degree"
      ]
    },
    {
      "cell_type": "code",
      "metadata": {
        "id": "Ygm_OlGT9c0F",
        "colab": {
          "base_uri": "https://localhost:8080/"
        },
        "outputId": "57c91ca4-11d0-418b-f7b5-75007a81efc6"
      },
      "source": [
        "math.degrees(3.141592653589793/2) # converts radians to degree"
      ],
      "execution_count": 50,
      "outputs": [
        {
          "output_type": "execute_result",
          "data": {
            "text/plain": [
              "90.0"
            ]
          },
          "metadata": {
            "tags": []
          },
          "execution_count": 50
        }
      ]
    },
    {
      "cell_type": "code",
      "metadata": {
        "id": "Feh4IZLC9cpI",
        "colab": {
          "base_uri": "https://localhost:8080/"
        },
        "outputId": "ea88607f-a17c-490b-bdc8-8f72f75734ca"
      },
      "source": [
        "math.radians(58) # converts degree to radians"
      ],
      "execution_count": 52,
      "outputs": [
        {
          "output_type": "execute_result",
          "data": {
            "text/plain": [
              "1.0122909661567112"
            ]
          },
          "metadata": {
            "tags": []
          },
          "execution_count": 52
        }
      ]
    },
    {
      "cell_type": "markdown",
      "metadata": {
        "id": "aAg-cNt0uPFe"
      },
      "source": [
        "Rounding off"
      ]
    },
    {
      "cell_type": "code",
      "metadata": {
        "id": "C2AhamCUePvx",
        "colab": {
          "base_uri": "https://localhost:8080/"
        },
        "outputId": "ae168425-0b89-4390-b848-8662a7e5910e"
      },
      "source": [
        "math.ceil(0.4) # rounds a number up to the nearest integer"
      ],
      "execution_count": 53,
      "outputs": [
        {
          "output_type": "execute_result",
          "data": {
            "text/plain": [
              "1"
            ]
          },
          "metadata": {
            "tags": []
          },
          "execution_count": 53
        }
      ]
    },
    {
      "cell_type": "code",
      "metadata": {
        "colab": {
          "base_uri": "https://localhost:8080/"
        },
        "id": "-_WSNd6oufjG",
        "outputId": "23275d44-d41a-4dca-97ec-4bd5e43f70ad"
      },
      "source": [
        "math.floor(2.8) # rounds a number down to the nearest integer"
      ],
      "execution_count": 54,
      "outputs": [
        {
          "output_type": "execute_result",
          "data": {
            "text/plain": [
              "2"
            ]
          },
          "metadata": {
            "tags": []
          },
          "execution_count": 54
        }
      ]
    },
    {
      "cell_type": "markdown",
      "metadata": {
        "id": "lBPQHlm0vkIl"
      },
      "source": [
        "Math Operators"
      ]
    },
    {
      "cell_type": "code",
      "metadata": {
        "colab": {
          "base_uri": "https://localhost:8080/"
        },
        "id": "8Y0xgaFcvD6U",
        "outputId": "b3c2bb35-d29d-4534-dca1-63ca9a1cf73a"
      },
      "source": [
        "math.fmod(536875,697) # returns the remainder of first number/second number"
      ],
      "execution_count": 56,
      "outputs": [
        {
          "output_type": "execute_result",
          "data": {
            "text/plain": [
              "185.0"
            ]
          },
          "metadata": {
            "tags": []
          },
          "execution_count": 56
        }
      ]
    },
    {
      "cell_type": "code",
      "metadata": {
        "colab": {
          "base_uri": "https://localhost:8080/"
        },
        "id": "xMFsK_k5vpFB",
        "outputId": "0cc47dd3-81af-41df-a63d-8b6ae6d567bd"
      },
      "source": [
        "lst=[4,3,2,7,231,1,2,3,5,7,8,242,291.3]\n",
        "math.fsum(lst) # returns the sum of all items in any iterable "
      ],
      "execution_count": 59,
      "outputs": [
        {
          "output_type": "execute_result",
          "data": {
            "text/plain": [
              "806.3"
            ]
          },
          "metadata": {
            "tags": []
          },
          "execution_count": 59
        }
      ]
    },
    {
      "cell_type": "code",
      "metadata": {
        "colab": {
          "base_uri": "https://localhost:8080/"
        },
        "id": "ecdGd9Bgv23t",
        "outputId": "de768453-e54c-4308-dc74-03c8d663ba56"
      },
      "source": [
        "math.trunc(123123.123) # returns the truncated integer parts of a number"
      ],
      "execution_count": 60,
      "outputs": [
        {
          "output_type": "execute_result",
          "data": {
            "text/plain": [
              "123123"
            ]
          },
          "metadata": {
            "tags": []
          },
          "execution_count": 60
        }
      ]
    },
    {
      "cell_type": "code",
      "metadata": {
        "colab": {
          "base_uri": "https://localhost:8080/"
        },
        "id": "Vxw_Sve4v3Tp",
        "outputId": "db4927da-d9f1-4110-8d08-cfe911f7c39a"
      },
      "source": [
        "math.exp(2) # returns e raised to the power of x"
      ],
      "execution_count": 61,
      "outputs": [
        {
          "output_type": "execute_result",
          "data": {
            "text/plain": [
              "7.38905609893065"
            ]
          },
          "metadata": {
            "tags": []
          },
          "execution_count": 61
        }
      ]
    },
    {
      "cell_type": "code",
      "metadata": {
        "colab": {
          "base_uri": "https://localhost:8080/"
        },
        "id": "Y7ZRVK6Uv51x",
        "outputId": "defd72d2-a054-47d1-917a-71be9e94e382"
      },
      "source": [
        "math.fabs(-123) # returns the absolute value of a number"
      ],
      "execution_count": 62,
      "outputs": [
        {
          "output_type": "execute_result",
          "data": {
            "text/plain": [
              "123.0"
            ]
          },
          "metadata": {
            "tags": []
          },
          "execution_count": 62
        }
      ]
    },
    {
      "cell_type": "code",
      "metadata": {
        "colab": {
          "base_uri": "https://localhost:8080/"
        },
        "id": "7V0GV_gBv634",
        "outputId": "b702a78e-b600-47aa-e568-da19bcc47e0b"
      },
      "source": [
        "math.factorial(6) # returns the factorial of a number"
      ],
      "execution_count": 64,
      "outputs": [
        {
          "output_type": "execute_result",
          "data": {
            "text/plain": [
              "26506016203388241830083948997122652308733243338791419536953875886722692493008546012916115491842024403640634606119811654494960119347553512170184954581649456512183885914608396800059608375592447362329407943094210173381790216758759017342540215389927351064363904755296999411881205036151631336836051358908668077745828018771747923652107717212809973708371639150728292395090107923427853395267621455010308659542795157919830444171577803932629609206225428626466811768877335722109345311255092764023575274231983296290468581976019822772030496898374669507201569697294525346621095620158620371197224469584139293138366734587631061167677858001359663451297658620624858965315925665233443205447440341991938724375299383576578104072221856987100695632247075421654330333948010781347154303991252814104560847635422755599186026685216314850231659624562900319214280097604572781954949543525866542049157525751004332081958371169820152666082210185139400793702776726740383739681487909516855387224635397566425495218902798019263680480878754651459955945603626122774397558304221041588595092442581383996268161182753055597613167969931202898304794845827769097511284792011270580678811015214918185741021361082830278964830702050351526980415350903155226041275138765445148480612654766507634112782314890493103172411669547734526357355781441885525250860511675586888440428066067954260455607935172746605219280291455041536000000000000000000000000000000000000000000000000000000000000000000000000000000000000000000000000000000000000000000000000000000000000000000000000000000000000000"
            ]
          },
          "metadata": {
            "tags": []
          },
          "execution_count": 64
        }
      ]
    },
    {
      "cell_type": "markdown",
      "metadata": {
        "id": "BsH87vJl9eNz"
      },
      "source": [
        "------------------------------"
      ]
    },
    {
      "cell_type": "markdown",
      "metadata": {
        "id": "wRIsufAcjxIL"
      },
      "source": [
        "## statistics module"
      ]
    },
    {
      "cell_type": "code",
      "metadata": {
        "id": "Y8B63Y-Uj0c6"
      },
      "source": [
        "import statistics"
      ],
      "execution_count": 65,
      "outputs": []
    },
    {
      "cell_type": "markdown",
      "metadata": {
        "id": "iQZelRCaj6Tl"
      },
      "source": [
        "### Functions"
      ]
    },
    {
      "cell_type": "code",
      "metadata": {
        "id": "-5qihr6I0sRT"
      },
      "source": [
        "lst=[1,5,6,7,8,23,34,100,100,123]"
      ],
      "execution_count": 74,
      "outputs": []
    },
    {
      "cell_type": "code",
      "metadata": {
        "colab": {
          "base_uri": "https://localhost:8080/"
        },
        "id": "5HpZs0c8kR56",
        "outputId": "548c906d-da2d-4462-a2ab-d1658dac2c97"
      },
      "source": [
        "statistics.mean(lst) # calculates the mean (average) of the given data"
      ],
      "execution_count": 67,
      "outputs": [
        {
          "output_type": "execute_result",
          "data": {
            "text/plain": [
              "40.7"
            ]
          },
          "metadata": {
            "tags": []
          },
          "execution_count": 67
        }
      ]
    },
    {
      "cell_type": "code",
      "metadata": {
        "colab": {
          "base_uri": "https://localhost:8080/"
        },
        "id": "z59Zi1Lm0mvM",
        "outputId": "a328b689-de86-41d2-a4d9-e06de384df97"
      },
      "source": [
        "statistics.median(lst) # calculates the median (middle value) of the given data"
      ],
      "execution_count": 75,
      "outputs": [
        {
          "output_type": "execute_result",
          "data": {
            "text/plain": [
              "23"
            ]
          },
          "metadata": {
            "tags": []
          },
          "execution_count": 75
        }
      ]
    },
    {
      "cell_type": "code",
      "metadata": {
        "colab": {
          "base_uri": "https://localhost:8080/"
        },
        "id": "IpQTxx_k0o4q",
        "outputId": "f47590f5-19bc-442b-9062-bd27f9421c0a"
      },
      "source": [
        "statistics.median_high(lst) # calculates the high median of the given data"
      ],
      "execution_count": 76,
      "outputs": [
        {
          "output_type": "execute_result",
          "data": {
            "text/plain": [
              "23"
            ]
          },
          "metadata": {
            "tags": []
          },
          "execution_count": 76
        }
      ]
    },
    {
      "cell_type": "code",
      "metadata": {
        "colab": {
          "base_uri": "https://localhost:8080/"
        },
        "id": "6nuAlcZEkWzu",
        "outputId": "4844f2e5-59b8-4ebc-ecfe-de4ed235192b"
      },
      "source": [
        "statistics.median_low(lst) # calculates the low median of the given data"
      ],
      "execution_count": 77,
      "outputs": [
        {
          "output_type": "execute_result",
          "data": {
            "text/plain": [
              "23"
            ]
          },
          "metadata": {
            "tags": []
          },
          "execution_count": 77
        }
      ]
    },
    {
      "cell_type": "code",
      "metadata": {
        "colab": {
          "base_uri": "https://localhost:8080/"
        },
        "id": "zYW4JRku0yit",
        "outputId": "2650157a-b47d-482f-cff5-d4ca3d713372"
      },
      "source": [
        "statistics.mode(lst) # calculates the mode (central tendency) of the given numeric or nominal data"
      ],
      "execution_count": 71,
      "outputs": [
        {
          "output_type": "execute_result",
          "data": {
            "text/plain": [
              "100"
            ]
          },
          "metadata": {
            "tags": []
          },
          "execution_count": 71
        }
      ]
    },
    {
      "cell_type": "code",
      "metadata": {
        "colab": {
          "base_uri": "https://localhost:8080/"
        },
        "id": "ZEOkmfiA01yS",
        "outputId": "5e5caca3-5194-4c28-d82f-377df2b16ea6"
      },
      "source": [
        "statistics.stdev(lst) # calculates the standard deviation from a sample of data"
      ],
      "execution_count": 72,
      "outputs": [
        {
          "output_type": "execute_result",
          "data": {
            "text/plain": [
              "47.6376368478165"
            ]
          },
          "metadata": {
            "tags": []
          },
          "execution_count": 72
        }
      ]
    },
    {
      "cell_type": "code",
      "metadata": {
        "colab": {
          "base_uri": "https://localhost:8080/"
        },
        "id": "wfcNd2FR0_ii",
        "outputId": "11a4283c-66d0-47e3-b87c-6893d2327221"
      },
      "source": [
        "statistics.variance(lst) # calculates the variance from a sample of data"
      ],
      "execution_count": 73,
      "outputs": [
        {
          "output_type": "execute_result",
          "data": {
            "text/plain": [
              "2269.3444444444444"
            ]
          },
          "metadata": {
            "tags": []
          },
          "execution_count": 73
        }
      ]
    }
  ]
}
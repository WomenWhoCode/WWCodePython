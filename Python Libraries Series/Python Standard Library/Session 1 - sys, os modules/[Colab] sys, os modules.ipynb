{
  "nbformat": 4,
  "nbformat_minor": 2,
  "metadata": {
    "colab": {
      "name": "Session #1: Python Standard Library",
      "provenance": [],
      "collapsed_sections": []
    },
    "kernelspec": {
      "name": "python3",
      "display_name": "Python 3"
    },
    "language_info": {
      "name": "python"
    }
  },
  "cells": [
    {
      "cell_type": "markdown",
      "source": [
        "# Python Libraries 101\n",
        "\n",
        "## Session #1: Python Standard Library"
      ],
      "metadata": {
        "id": "NbreNcqX8BEv"
      }
    },
    {
      "cell_type": "markdown",
      "source": [
        "## List of Topics:\n",
        "  1. sys\n",
        "  2. os"
      ],
      "metadata": {
        "id": "-hu7bxJx8Zn_"
      }
    },
    {
      "cell_type": "markdown",
      "source": [
        "## sys module"
      ],
      "metadata": {
        "id": "lRzaOgKg9IQw"
      }
    },
    {
      "cell_type": "code",
      "execution_count": 1,
      "source": [
        "import sys  # we don't need to install it separately"
      ],
      "outputs": [],
      "metadata": {
        "id": "ck8UIE3_SbnW"
      }
    },
    {
      "cell_type": "markdown",
      "source": [
        "### Variables"
      ],
      "metadata": {
        "id": "a6TT5FuwSOWa"
      }
    },
    {
      "cell_type": "code",
      "execution_count": 2,
      "source": [
        "#  displays a string containing the version number of the current Python interpreter\r\n",
        "print(sys.version)"
      ],
      "outputs": [
        {
          "output_type": "stream",
          "name": "stdout",
          "text": [
            "3.7.11 (default, Jul  3 2021, 18:01:19) \n",
            "[GCC 7.5.0]\n"
          ]
        }
      ],
      "metadata": {
        "id": "p2CnzMAu9Plo",
        "colab": {
          "base_uri": "https://localhost:8080/"
        },
        "outputId": "ce6a6442-c1e0-4c79-c1a0-2a06242b6128"
      }
    },
    {
      "cell_type": "code",
      "execution_count": null,
      "source": [
        "# displays a dictionary that maps module names to modules which have already been loaded\r\n",
        "print(sys.modules)"
      ],
      "outputs": [],
      "metadata": {
        "id": "UghN4LDM9L1v",
        "colab": {
          "base_uri": "https://localhost:8080/"
        },
        "outputId": "2fb8352c-a534-4647-8b9b-68cef169d1b3"
      }
    },
    {
      "cell_type": "code",
      "execution_count": 4,
      "source": [
        "# displays an environment variable that is a search path for all Python modules\r\n",
        "# list of directories that the interpreter will search in for the required module.\r\n",
        "print(sys.path)"
      ],
      "outputs": [
        {
          "output_type": "stream",
          "name": "stdout",
          "text": [
            "['', '/content', '/env/python', '/usr/lib/python37.zip', '/usr/lib/python3.7', '/usr/lib/python3.7/lib-dynload', '/usr/local/lib/python3.7/dist-packages', '/usr/lib/python3/dist-packages', '/usr/local/lib/python3.7/dist-packages/IPython/extensions', '/root/.ipython']\n"
          ]
        }
      ],
      "metadata": {
        "id": "VdwVulAfTToU",
        "colab": {
          "base_uri": "https://localhost:8080/"
        },
        "outputId": "99d26547-e716-470a-80bf-1111fde2d17a"
      }
    },
    {
      "cell_type": "code",
      "execution_count": 5,
      "source": [
        "# displays a string containing a platform identifier\r\n",
        "print(sys.platform)"
      ],
      "outputs": [
        {
          "output_type": "stream",
          "name": "stdout",
          "text": [
            "linux\n"
          ]
        }
      ],
      "metadata": {
        "id": "nVl0-z4q9Lnm",
        "colab": {
          "base_uri": "https://localhost:8080/"
        },
        "outputId": "450320fb-6547-4878-d244-9f7ae71ac968"
      }
    },
    {
      "cell_type": "markdown",
      "source": [
        "### Functions"
      ],
      "metadata": {
        "id": "VtGINNrpTSRc"
      }
    },
    {
      "cell_type": "code",
      "execution_count": 6,
      "source": [
        "# command line utility\r\n",
        "# returns a list of command line arguments passed to a Python script\r\n",
        "sys.argv[0]"
      ],
      "outputs": [
        {
          "output_type": "execute_result",
          "data": {
            "text/plain": [
              "'/usr/local/lib/python3.7/dist-packages/ipykernel_launcher.py'"
            ],
            "application/vnd.google.colaboratory.intrinsic+json": {
              "type": "string"
            }
          },
          "metadata": {
            "tags": []
          },
          "execution_count": 6
        }
      ],
      "metadata": {
        "id": "XpijCjVQXD3v",
        "colab": {
          "base_uri": "https://localhost:8080/",
          "height": 35
        },
        "outputId": "85ff564f-afc9-4a2f-c5bc-49e225bf3ec4"
      }
    },
    {
      "cell_type": "markdown",
      "source": [
        "```\n",
        "import sys\n",
        "print('The name of your python file is: ', sys.argv[0])\n",
        "print('Your name is: ', sys.argv[1:])\n",
        "```"
      ],
      "metadata": {
        "id": "qalExIFr3-x7"
      }
    },
    {
      "cell_type": "code",
      "execution_count": 7,
      "source": [
        "# returns the size of an object in bytes\r\n",
        "# create a few variables containing different data types\r\n",
        "\r\n",
        "series = 'Python Libraries 101'     # string\r\n",
        "session_no = 1                      # int\r\n",
        "topic = 1.1                         # float\r\n",
        "list_of_topics = ['sys','os']       # list\r\n",
        "tuple_topics = ('sys','os')         # tuple\r\n",
        "\r\n",
        "# print the size of these\r\n",
        "\r\n",
        "print('Size of our string: ', sys.getsizeof(series))\r\n",
        "print('Size of our integer: ', sys.getsizeof(session_no))\r\n",
        "print('Size of our float: ',sys.getsizeof(topic))\r\n",
        "print('Size of our list: ',sys.getsizeof(list_of_topics))\r\n",
        "print('Size of our tuple: ',sys.getsizeof(tuple_topics))"
      ],
      "outputs": [
        {
          "output_type": "stream",
          "name": "stdout",
          "text": [
            "Size of our string:  69\n",
            "Size of our integer:  28\n",
            "Size of our float:  24\n",
            "Size of our list:  88\n",
            "Size of our tuple:  72\n"
          ]
        }
      ],
      "metadata": {
        "id": "clVEurcVXDyR",
        "colab": {
          "base_uri": "https://localhost:8080/"
        },
        "outputId": "7a62b5fd-1dca-417f-da03-6b167d9fd021"
      }
    },
    {
      "cell_type": "code",
      "execution_count": 8,
      "source": [
        "# Observe the sizes of different datatypes\r\n",
        "\r\n",
        "print('Size of an empty string: ', sys.getsizeof(str()))\r\n",
        "print('Size of an integer: ', sys.getsizeof(int()))\r\n",
        "print('Size of a float: ',sys.getsizeof(float()))\r\n",
        "print('Size of a empty list: ',sys.getsizeof(list()))\r\n",
        "print('Size of a empty tuple: ',sys.getsizeof(tuple()))"
      ],
      "outputs": [
        {
          "output_type": "stream",
          "name": "stdout",
          "text": [
            "Size of an empty string:  53\n",
            "Size of an integer:  24\n",
            "Size of a float:  24\n",
            "Size of a empty list:  72\n",
            "Size of a empty tuple:  56\n"
          ]
        }
      ],
      "metadata": {
        "id": "ycOIrn1eZmxX",
        "colab": {
          "base_uri": "https://localhost:8080/"
        },
        "outputId": "66048c52-3401-41ce-a83f-6afebf7fca10"
      }
    },
    {
      "cell_type": "code",
      "execution_count": 9,
      "source": [
        "# sys.stdin() returns the input from the command line directly. It is used for standard input\r\n",
        "# sys.stdout() is used to display output directly to the output window."
      ],
      "outputs": [],
      "metadata": {
        "id": "tWAZteFjXDtO"
      }
    },
    {
      "cell_type": "code",
      "execution_count": 10,
      "source": [
        "# sys.exit([arg]) is used to exit to either the Python console or the command prompt"
      ],
      "outputs": [],
      "metadata": {
        "id": "bLOLBv9pXDcD"
      }
    },
    {
      "cell_type": "markdown",
      "source": [
        "--------------------------"
      ],
      "metadata": {
        "id": "DtXo9XK39P6q"
      }
    },
    {
      "cell_type": "markdown",
      "source": [
        "## os module"
      ],
      "metadata": {
        "id": "n8zUcgW-9MpG"
      }
    },
    {
      "cell_type": "code",
      "execution_count": 11,
      "source": [
        "# importing the os module\r\n",
        "import os "
      ],
      "outputs": [],
      "metadata": {
        "id": "Bie8JRMn9c-Q"
      }
    },
    {
      "cell_type": "markdown",
      "source": [
        "### Functions"
      ],
      "metadata": {
        "id": "iMMDBGXnec4Z"
      }
    },
    {
      "cell_type": "code",
      "execution_count": 12,
      "source": [
        "# os.getcwd() returns the current working directory\r\n",
        "\r\n",
        "# printing the current directory\r\n",
        "print(os.getcwd())"
      ],
      "outputs": [
        {
          "output_type": "stream",
          "name": "stdout",
          "text": [
            "/content\n"
          ]
        }
      ],
      "metadata": {
        "id": "Ygm_OlGT9c0F",
        "colab": {
          "base_uri": "https://localhost:8080/"
        },
        "outputId": "20bfc3ae-9c18-48be-a5bc-66d757183d19"
      }
    },
    {
      "cell_type": "code",
      "execution_count": 13,
      "source": [
        "# os.listdir(path) returns the list of all files and directories in the specified path\r\n",
        "\r\n",
        "# print the list of all files and directories in our current working directory\r\n",
        "print(os.listdir())"
      ],
      "outputs": [
        {
          "output_type": "stream",
          "name": "stdout",
          "text": [
            "['.config', 'sample_data']\n"
          ]
        }
      ],
      "metadata": {
        "colab": {
          "base_uri": "https://localhost:8080/"
        },
        "id": "dXzL_ppde3Nw",
        "outputId": "0f2d572e-f4fc-4ec2-d95e-39362a0bfee1"
      }
    },
    {
      "cell_type": "code",
      "execution_count": 14,
      "source": [
        "# os.mkdir(path+filename) creates a new directory\r\n",
        "# the default path is our current working directory\r\n",
        "\r\n",
        "# creating a directory named newDirectory\r\n",
        "os.mkdir('newDirectory')\r\n",
        "\r\n",
        "# print the list of directories in our current working directory\r\n",
        "print(os.listdir())"
      ],
      "outputs": [
        {
          "output_type": "stream",
          "name": "stdout",
          "text": [
            "['.config', 'newDirectory', 'sample_data']\n"
          ]
        }
      ],
      "metadata": {
        "colab": {
          "base_uri": "https://localhost:8080/"
        },
        "id": "5TWdKBydepUI",
        "outputId": "b8cd1bc6-f534-4810-d1ac-72ef4675920f"
      }
    },
    {
      "cell_type": "code",
      "execution_count": 15,
      "source": [
        "# os.chdir() switch/change directories\r\n",
        "\r\n",
        "# switch the current working directory to newDirectory\r\n",
        "os.chdir('newDirectory')\r\n",
        "\r\n",
        "# print the current working directory\r\n",
        "print(os.getcwd())"
      ],
      "outputs": [
        {
          "output_type": "stream",
          "name": "stdout",
          "text": [
            "/content/newDirectory\n"
          ]
        }
      ],
      "metadata": {
        "colab": {
          "base_uri": "https://localhost:8080/"
        },
        "id": "zS3sT9Edh9YZ",
        "outputId": "549937b2-0db1-4db4-926f-a3a6c5f6db80"
      }
    },
    {
      "cell_type": "code",
      "execution_count": 16,
      "source": [
        "# os.open(file, flags[, mode]) returns the file descriptor for the newly opened file\r\n",
        "fd = os.open( \"/content/\", os.O_RDONLY )\r\n",
        "\r\n",
        "# os.fchdir(fd) change the current working directory to the directory represented by the file descriptor fd\r\n",
        "os.fchdir(fd)\r\n",
        "\r\n",
        "# print our current working directory\r\n",
        "print('Current Directory: ',os.getcwd())\r\n",
        "print('Composition of Current Directory: ',os.listdir())"
      ],
      "outputs": [
        {
          "output_type": "stream",
          "name": "stdout",
          "text": [
            "Current Directory:  /content\n",
            "Composition of Current Directory:  ['.config', 'newDirectory', 'sample_data']\n"
          ]
        }
      ],
      "metadata": {
        "id": "Feh4IZLC9cpI",
        "colab": {
          "base_uri": "https://localhost:8080/"
        },
        "outputId": "b74b8fc3-aefd-47ba-eab0-f2fd751a3d6d"
      }
    },
    {
      "cell_type": "code",
      "execution_count": 17,
      "source": [
        "# os.rmdir(path) removes the specified directory either with an absolute or relative path\r\n",
        "os.rmdir('newDirectory')\r\n",
        "\r\n",
        "print('Composition of Current Directory: ',os.listdir())"
      ],
      "outputs": [
        {
          "output_type": "stream",
          "name": "stdout",
          "text": [
            "Composition of Current Directory:  ['.config', 'sample_data']\n"
          ]
        }
      ],
      "metadata": {
        "colab": {
          "base_uri": "https://localhost:8080/"
        },
        "id": "eTj_8Uxuft0l",
        "outputId": "235eba0e-8ad3-4554-a7d0-fc5e313c92c6"
      }
    },
    {
      "cell_type": "code",
      "execution_count": 18,
      "source": [
        "# create a new directory called myFiles\r\n",
        "os.mkdir('myFiles')\r\n",
        "\r\n",
        "# change directories to myFiles\r\n",
        "os.chdir('myFiles')\r\n",
        "\r\n",
        "# check which directory we are currently in\r\n",
        "print(os.getcwd())"
      ],
      "outputs": [
        {
          "output_type": "stream",
          "name": "stdout",
          "text": [
            "/content/myFiles\n"
          ]
        }
      ],
      "metadata": {
        "colab": {
          "base_uri": "https://localhost:8080/"
        },
        "id": "53W6nRHvja9m",
        "outputId": "f3605599-e2c6-49f2-8805-73ac1c4f6814"
      }
    },
    {
      "cell_type": "code",
      "execution_count": 19,
      "source": [
        "# creating a few sub directories in myFiles\r\n",
        "os.mkdir('Photos')\r\n",
        "os.mkdir('Documents')\r\n",
        "os.mkdir('Videos')\r\n",
        "\r\n",
        "# print the components of myFiles\r\n",
        "print('Composition of myFiles ',os.listdir())"
      ],
      "outputs": [
        {
          "output_type": "stream",
          "name": "stdout",
          "text": [
            "Composition of myFiles  ['Documents', 'Photos', 'Videos']\n"
          ]
        }
      ],
      "metadata": {
        "colab": {
          "base_uri": "https://localhost:8080/"
        },
        "id": "eDDt7N_Jjx8x",
        "outputId": "d16d4bb9-ff54-4dd2-9585-68d28a00ee7d"
      }
    },
    {
      "cell_type": "code",
      "execution_count": 20,
      "source": [
        "# switch back to the /content/ directory\r\n",
        "os.chdir(fd)\r\n",
        "\r\n",
        "# print the composition of content/ and myFiles/\r\n",
        "print('Composition of Current Directory: ',os.listdir())\r\n",
        "print('Composition of myFiles ',os.listdir('myFiles'))"
      ],
      "outputs": [
        {
          "output_type": "stream",
          "name": "stdout",
          "text": [
            "Composition of Current Directory:  ['.config', 'myFiles', 'sample_data']\n",
            "Composition of myFiles  ['Documents', 'Photos', 'Videos']\n"
          ]
        }
      ],
      "metadata": {
        "colab": {
          "base_uri": "https://localhost:8080/"
        },
        "id": "NB-8jnlIvo_Y",
        "outputId": "9515223a-df29-476b-c0d7-630b748d486c"
      }
    },
    {
      "cell_type": "code",
      "execution_count": 21,
      "source": [
        "# delete the directory myFiles\r\n",
        "\r\n",
        "os.rmdir('myFiles')"
      ],
      "outputs": [
        {
          "output_type": "error",
          "ename": "OSError",
          "evalue": "ignored",
          "traceback": [
            "\u001b[0;31m---------------------------------------------------------------------------\u001b[0m",
            "\u001b[0;31mOSError\u001b[0m                                   Traceback (most recent call last)",
            "\u001b[0;32m<ipython-input-21-bed04e3b4bcc>\u001b[0m in \u001b[0;36m<module>\u001b[0;34m()\u001b[0m\n\u001b[1;32m      1\u001b[0m \u001b[0;31m# delete the directory myFiles\u001b[0m\u001b[0;34m\u001b[0m\u001b[0;34m\u001b[0m\u001b[0;34m\u001b[0m\u001b[0m\n\u001b[1;32m      2\u001b[0m \u001b[0;34m\u001b[0m\u001b[0m\n\u001b[0;32m----> 3\u001b[0;31m \u001b[0mos\u001b[0m\u001b[0;34m.\u001b[0m\u001b[0mrmdir\u001b[0m\u001b[0;34m(\u001b[0m\u001b[0;34m'myFiles'\u001b[0m\u001b[0;34m)\u001b[0m\u001b[0;34m\u001b[0m\u001b[0;34m\u001b[0m\u001b[0m\n\u001b[0m",
            "\u001b[0;31mOSError\u001b[0m: [Errno 39] Directory not empty: 'myFiles'"
          ]
        }
      ],
      "metadata": {
        "id": "4rIRGsgPjsLt",
        "colab": {
          "base_uri": "https://localhost:8080/",
          "height": 195
        },
        "outputId": "e60d6e31-00ee-4edb-cd17-d09c5a262a67"
      }
    },
    {
      "cell_type": "markdown",
      "source": [
        "*We cannot remove a non-empty directory*"
      ],
      "metadata": {
        "id": "yDLcE-2b408a"
      }
    },
    {
      "cell_type": "code",
      "execution_count": 22,
      "source": [
        "# save the path of myFiles in a variable\r\n",
        "myFiles_path = \"/content/myFiles\"\r\n",
        "\r\n",
        "# os.path.join() is used to concatenate two strings to make a path\r\n",
        "\r\n",
        "# remove the empty sub directory Photos\r\n",
        "os.rmdir(os.path.join(myFiles_path+'/Photos'))\r\n",
        "\r\n",
        "# print the list of directories in myFiles\r\n",
        "print(os.listdir(myFiles_path))"
      ],
      "outputs": [
        {
          "output_type": "stream",
          "name": "stdout",
          "text": [
            "['Documents', 'Videos']\n"
          ]
        }
      ],
      "metadata": {
        "colab": {
          "base_uri": "https://localhost:8080/"
        },
        "id": "Ito3dsuFvkS6",
        "outputId": "f3bf32c6-ad7a-4189-90fc-1760761fd048"
      }
    },
    {
      "cell_type": "code",
      "execution_count": 23,
      "source": [
        "# remove the other directories in myFiles\r\n",
        "\r\n",
        "os.rmdir(os.path.join(myFiles_path+'/Videos'))\r\n",
        "os.rmdir(os.path.join(myFiles_path+'/Documents'))"
      ],
      "outputs": [],
      "metadata": {
        "id": "ceVNFdY_kAYg"
      }
    },
    {
      "cell_type": "code",
      "execution_count": 24,
      "source": [
        "# print the contents in the /content/ directory and in myFiles\r\n",
        "\r\n",
        "print('Composition of Current Directory: ',os.listdir())\r\n",
        "print('Composition of myFiles ',os.listdir('myFiles'))"
      ],
      "outputs": [
        {
          "output_type": "stream",
          "name": "stdout",
          "text": [
            "Composition of Current Directory:  ['.config', 'myFiles', 'sample_data']\n",
            "Composition of myFiles  []\n"
          ]
        }
      ],
      "metadata": {
        "colab": {
          "base_uri": "https://localhost:8080/"
        },
        "id": "3yVh-iDKzcpd",
        "outputId": "0b76c455-da5b-4af3-f08b-a334f262d1af"
      }
    },
    {
      "cell_type": "code",
      "execution_count": 25,
      "source": [
        "# delete myFiles\r\n",
        "os.rmdir('myFiles')"
      ],
      "outputs": [],
      "metadata": {
        "id": "ZfguxTL1zXqq"
      }
    },
    {
      "cell_type": "code",
      "execution_count": 26,
      "source": [
        "# check if myFiles was deleted\r\n",
        "print('Composition of Current Directory: ',os.listdir())"
      ],
      "outputs": [
        {
          "output_type": "stream",
          "name": "stdout",
          "text": [
            "Composition of Current Directory:  ['.config', 'sample_data']\n"
          ]
        }
      ],
      "metadata": {
        "id": "Knh5wuFZzdUC",
        "colab": {
          "base_uri": "https://localhost:8080/"
        },
        "outputId": "d5bf0415-3c0f-41c3-878b-59c49b0cfd33"
      }
    },
    {
      "cell_type": "markdown",
      "source": [
        "------------------------------"
      ],
      "metadata": {
        "id": "BsH87vJl9eNz"
      }
    }
  ]
}
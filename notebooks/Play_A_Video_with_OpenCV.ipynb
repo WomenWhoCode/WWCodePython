{
  "nbformat": 4,
  "nbformat_minor": 0,
  "metadata": {
    "colab": {
      "name": "Play A Video with OpenCV",
      "provenance": [],
      "collapsed_sections": [],
      "authorship_tag": "ABX9TyNueTAJ4kt5C+ghY+bx/RIO",
      "include_colab_link": true
    },
    "kernelspec": {
      "display_name": "Python 3",
      "name": "python3"
    },
    "language_info": {
      "name": "python"
    }
  },
  "cells": [
    {
      "cell_type": "markdown",
      "metadata": {
        "id": "view-in-github",
        "colab_type": "text"
      },
      "source": [
        "<a href=\"https://colab.research.google.com/github/quinnrenee/WWCodePython/blob/master/Play_A_Video_with_OpenCV.ipynb\" target=\"_parent\"><img src=\"https://colab.research.google.com/assets/colab-badge.svg\" alt=\"Open In Colab\"/></a>"
      ]
    },
    {
      "cell_type": "code",
      "metadata": {
        "id": "1qCWXBXC4WV3"
      },
      "source": [
        "import cv2\n",
        "from google.colab.patches import cv2_imshow "
      ],
      "execution_count": null,
      "outputs": []
    },
    {
      "cell_type": "code",
      "metadata": {
        "colab": {
          "base_uri": "https://localhost:8080/"
        },
        "id": "hc24Q4qS9M8h",
        "outputId": "d35c739c-9c7b-49aa-df51-6e71bb260ee2"
      },
      "source": [
        "# get the video\n",
        "!wget = \"https://www.datocms-assets.com/22581/1603987530-1-pixabay.mp4\""
      ],
      "execution_count": null,
      "outputs": [
        {
          "name": "stdout",
          "output_type": "stream",
          "text": [
            "--2021-10-17 02:34:02--  http://=/\n",
            "Resolving = (=)... failed: Name or service not known.\n",
            "wget: unable to resolve host address ‘=’\n",
            "--2021-10-17 02:34:02--  https://www.datocms-assets.com/22581/1603987530-1-pixabay.mp4\n",
            "Resolving www.datocms-assets.com (www.datocms-assets.com)... 104.26.10.223, 104.26.11.223, 172.67.73.45, ...\n",
            "Connecting to www.datocms-assets.com (www.datocms-assets.com)|104.26.10.223|:443... connected.\n",
            "HTTP request sent, awaiting response... 200 OK\n",
            "Length: 9324942 (8.9M) [video/mp4]\n",
            "Saving to: ‘1603987530-1-pixabay.mp4’\n",
            "\n",
            "1603987530-1-pixaba 100%[===================>]   8.89M  --.-KB/s    in 0.09s   \n",
            "\n",
            "2021-10-17 02:34:02 (98.9 MB/s) - ‘1603987530-1-pixabay.mp4’ saved [9324942/9324942]\n",
            "\n",
            "FINISHED --2021-10-17 02:34:02--\n",
            "Total wall clock time: 0.2s\n",
            "Downloaded: 1 files, 8.9M in 0.09s (98.9 MB/s)\n"
          ]
        }
      ]
    },
    {
      "cell_type": "code",
      "metadata": {
        "id": "RgX8YyRP4gu4"
      },
      "source": [
        "# Create a video object, adding video file\n",
        "cap = cv2.VideoCapture('1603987530-1-pixabay.mp4')"
      ],
      "execution_count": null,
      "outputs": []
    },
    {
      "cell_type": "code",
      "metadata": {
        "colab": {
          "background_save": true
        },
        "id": "hyjhzhR25CN8"
      },
      "source": [
        "# Will play video frame by frame. Very slow on Google Colab\n",
        "# Make sure camera is open\n",
        "if (cap.isOpened()== False):\n",
        "  print(\"Error opening video stream or file\")\n",
        "\n",
        "# Read video until it's complete and capture frame by frame, then display frames\n",
        "while(cap.isOpened() ): \n",
        "  ret, frame = cap.read()\n",
        "  if ret == True:\n",
        "    cv2_imshow(frame)\n",
        "\n",
        "    if cv2.waitKey(25) & 0xFF == ord('q'):\n",
        "      break\n",
        "  else: \n",
        "    break \n",
        "\n",
        "cap.release() \n",
        "cv2.destroyAllWindows() "
      ],
      "execution_count": null,
      "outputs": []
    }
  ]
}